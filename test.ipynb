{
 "cells": [
  {
   "cell_type": "code",
   "execution_count": 1,
   "metadata": {},
   "outputs": [
    {
     "name": "stdout",
     "output_type": "stream",
     "text": [
      "env: XLA_PYTHON_CLIENT_PREALLOCATE=false\n",
      "Starting program on device [gpu(id=0)]\n",
      "Loaded data from 'polaron_data' with 29419 frames and 384 atoms.\n",
      "System initialized with 633346 parameters.\n",
      "Iter  0 : Loss = 5.94454  Loss_E = 0.03051  Loss_F = 0.18054  Time = 4.51\n",
      "Iter  1000 : Loss = 23.45628  Loss_E = 0.03403  Loss_F = 0.73945  Time = 9.84\n",
      "Iter  2000 : Loss = 11.65014  Loss_E = 0.09187  Loss_F = 0.33292  Time = 6.63\n"
     ]
    },
    {
     "ename": "KeyboardInterrupt",
     "evalue": "",
     "output_type": "error",
     "traceback": [
      "\u001b[0;31m---------------------------------------------------------------------------\u001b[0m",
      "\u001b[0;31mKeyboardInterrupt\u001b[0m                         Traceback (most recent call last)",
      "\u001b[1;32m/global/homes/r/ruiqig/deepmd-jax/test.ipynb Cell 1\u001b[0m line \u001b[0;36m7\n\u001b[1;32m     <a href='vscode-notebook-cell://ssh-remote%2Bperl/global/homes/r/ruiqig/deepmd-jax/test.ipynb#W0sdnNjb2RlLXJlbW90ZQ%3D%3D?line=70'>71</a>\u001b[0m \u001b[39mfor\u001b[39;00m iteration \u001b[39min\u001b[39;00m \u001b[39mrange\u001b[39m(total_steps):\n\u001b[1;32m     <a href='vscode-notebook-cell://ssh-remote%2Bperl/global/homes/r/ruiqig/deepmd-jax/test.ipynb#W0sdnNjb2RlLXJlbW90ZQ%3D%3D?line=71'>72</a>\u001b[0m     batch, lattice_args \u001b[39m=\u001b[39m train_data\u001b[39m.\u001b[39mget_batch(batch_size)\n\u001b[0;32m---> <a href='vscode-notebook-cell://ssh-remote%2Bperl/global/homes/r/ruiqig/deepmd-jax/test.ipynb#W0sdnNjb2RlLXJlbW90ZQ%3D%3D?line=72'>73</a>\u001b[0m     variables, opt_state, state_args \u001b[39m=\u001b[39m train_step(batch, variables, opt_state, state_args, static_args)\n\u001b[1;32m     <a href='vscode-notebook-cell://ssh-remote%2Bperl/global/homes/r/ruiqig/deepmd-jax/test.ipynb#W0sdnNjb2RlLXJlbW90ZQ%3D%3D?line=73'>74</a>\u001b[0m     \u001b[39mif\u001b[39;00m iteration \u001b[39m%\u001b[39m \u001b[39m1000\u001b[39m \u001b[39m==\u001b[39m \u001b[39m0\u001b[39m:\n\u001b[1;32m     <a href='vscode-notebook-cell://ssh-remote%2Bperl/global/homes/r/ruiqig/deepmd-jax/test.ipynb#W0sdnNjb2RlLXJlbW90ZQ%3D%3D?line=74'>75</a>\u001b[0m         beta \u001b[39m=\u001b[39m l_smoothing \u001b[39m*\u001b[39m (\u001b[39m1\u001b[39m \u001b[39m-\u001b[39m (\u001b[39m1\u001b[39m\u001b[39m/\u001b[39ml_smoothing)\u001b[39m*\u001b[39m\u001b[39m*\u001b[39m(iteration\u001b[39m+\u001b[39m\u001b[39m1\u001b[39m))\n",
      "File \u001b[0;32m<string>:1\u001b[0m, in \u001b[0;36m<lambda>\u001b[0;34m(_cls, count, mu, nu)\u001b[0m\n",
      "\u001b[0;31mKeyboardInterrupt\u001b[0m: "
     ]
    }
   ],
   "source": [
    "%env XLA_PYTHON_CLIENT_PREALLOCATE=false\n",
    "import jax.numpy as jnp\n",
    "import numpy as np\n",
    "from jax import jit, grad, random, tree_util\n",
    "import jax, optax\n",
    "import flax.linen as nn\n",
    "from deepmd_jax.data import DataSystem\n",
    "from deepmd_jax.model import DPModel\n",
    "import pickle\n",
    "from time import time\n",
    "# jax.config.update('jax_enable_x64', True)\n",
    "jax.config.update('jax_default_matmul_precision', 'float32')\n",
    "np.set_printoptions(precision=5, suppress=True)\n",
    "print('Starting program on device', jax.devices())\n",
    "\n",
    "save_name    = 'model_polaron.pkl'\n",
    "train_data   = DataSystem('polaron_data', ['coord', 'box', 'force', 'energy'])\n",
    "rcut         = 7.0\n",
    "embed_widths = [32, 64, 128]\n",
    "fit_widths   = [128, 128, 128]\n",
    "axis_neuron  = 16\n",
    "batch_size   = 1\n",
    "lr           = 0.002 \n",
    "beta2        = 0.999\n",
    "s_pref_e     = 0.02\n",
    "l_pref_e     = 1\n",
    "s_pref_f     = 1000\n",
    "l_pref_f     = 1\n",
    "total_steps  = 2001\n",
    "decay_steps  = 4000\n",
    "decay_rate   = 0.95\n",
    "\n",
    "RANDOM_SEED  = np.random.randint(1000)\n",
    "l_smoothing  = 20\n",
    "getstat_bs   = 100\n",
    "\n",
    "train_data.compute_lattice_candidate(rcut)\n",
    "model = DPModel({'embed_widths':embed_widths,\n",
    "                 'fit_widths':fit_widths,\n",
    "                 'axis_neuron':axis_neuron,\n",
    "                 'Ebias':train_data.compute_Ebias()})\n",
    "batch, lattice_args = train_data.get_batch(getstat_bs)\n",
    "static_args = nn.FrozenDict({'lattice':lattice_args,\n",
    "                            'rcut':rcut,\n",
    "                            'type_index':tuple(train_data.type_index),\n",
    "                            'ntype_index':tuple(lattice_args['lattice_max']*train_data.type_index)})\n",
    "model.get_stats(batch['coord'], batch['box'], static_args)\n",
    "variables = model.init(random.PRNGKey(RANDOM_SEED), batch['coord'][0], batch['box'][0], static_args)\n",
    "lr_scheduler = optax.exponential_decay(init_value=lr, transition_steps=decay_steps,\n",
    "                    decay_rate=decay_rate, transition_begin=0, staircase=True)\n",
    "optimizer = optax.adam(learning_rate=lr_scheduler, b2=beta2)\n",
    "opt_state = optimizer.init(variables)\n",
    "loss, loss_and_grad = model.get_loss_ef_fn()\n",
    "print('System initialized with', sum(i.size for i in tree_util.tree_flatten(variables)[0]), 'parameters.')\n",
    "\n",
    "def train_step(batch, variables, opt_state, state_args, static_args):\n",
    "    r = lr_scheduler(state_args['iteration']) / lr\n",
    "    pref = {'e': s_pref_e*r + l_pref_e*(1-r), 'f': s_pref_f*r + l_pref_f*(1-r)}\n",
    "    (loss_total, (loss_e, loss_f)), grads = loss_and_grad(variables, batch, pref, static_args)\n",
    "    updates, opt_state = optimizer.update(grads, opt_state)\n",
    "    variables = optax.apply_updates(variables, updates)\n",
    "    state_args['loss_avg'] = state_args['loss_avg'] * (1-1/l_smoothing) + loss_total\n",
    "    state_args['le_avg'] = state_args['le_avg'] * (1-1/l_smoothing) + loss_e\n",
    "    state_args['lf_avg'] = state_args['lf_avg'] * (1-1/l_smoothing) + loss_f\n",
    "    state_args['iteration'] += 1\n",
    "    return variables, opt_state, state_args\n",
    "train_step = jit(train_step, static_argnums=(4,))\n",
    "\n",
    "state_args = {'le_avg':0., 'lf_avg':0., 'loss_avg':0., 'iteration':0}\n",
    "tic = time()\n",
    "for iteration in range(total_steps):\n",
    "    batch, lattice_args = train_data.get_batch(batch_size)\n",
    "    variables, opt_state, state_args = train_step(batch, variables, opt_state, state_args, static_args)\n",
    "    if iteration % 1000 == 0:\n",
    "        beta = l_smoothing * (1 - (1/l_smoothing)**(iteration+1))\n",
    "        print('Iter ', iteration,\n",
    "              ': Loss = %.5f' % (state_args['loss_avg']/beta)**0.5,\n",
    "              ' Loss_E = %.5f' % ((state_args['le_avg']/beta)**0.5/train_data.natoms),\n",
    "              ' Loss_F = %.5f' % (state_args['lf_avg']/beta)**0.5,\n",
    "              ' Time = %.2f' % (time()-tic))\n",
    "        tic = time()\n",
    "\n",
    "with open(save_name, 'wb') as file:\n",
    "    pickle.dump({'model':model, 'variables':variables}, file)"
   ]
  },
  {
   "cell_type": "code",
   "execution_count": 2,
   "metadata": {},
   "outputs": [
    {
     "name": "stderr",
     "output_type": "stream",
     "text": [
      "2023-09-25 17:13:36.706241: E external/xla/xla/python/profiler/internal/python_hooks.cc:398] Can't import tensorflow.python.profiler.trace\n",
      "2023-09-25 17:13:36.795763: E external/xla/xla/python/profiler/internal/python_hooks.cc:398] Can't import tensorflow.python.profiler.trace\n"
     ]
    },
    {
     "name": "stdout",
     "output_type": "stream",
     "text": [
      "Open URL in browser: https://ui.perfetto.dev/#!/?url=http://127.0.0.1:9001/perfetto_trace.json.gz\n"
     ]
    },
    {
     "ename": "KeyboardInterrupt",
     "evalue": "",
     "output_type": "error",
     "traceback": [
      "\u001b[0;31m---------------------------------------------------------------------------\u001b[0m",
      "\u001b[0;31mKeyboardInterrupt\u001b[0m                         Traceback (most recent call last)",
      "\u001b[1;32m/global/homes/r/ruiqig/deepmd-jax/test.ipynb Cell 2\u001b[0m line \u001b[0;36m5\n\u001b[1;32m      <a href='vscode-notebook-cell://ssh-remote%2Bperl/global/homes/r/ruiqig/deepmd-jax/test.ipynb#X65sdnNjb2RlLXJlbW90ZQ%3D%3D?line=2'>3</a>\u001b[0m     batch, _ \u001b[39m=\u001b[39m train_data\u001b[39m.\u001b[39mget_batch(batch_size)\n\u001b[1;32m      <a href='vscode-notebook-cell://ssh-remote%2Bperl/global/homes/r/ruiqig/deepmd-jax/test.ipynb#X65sdnNjb2RlLXJlbW90ZQ%3D%3D?line=3'>4</a>\u001b[0m     variables, opt_state, state_args \u001b[39m=\u001b[39m train_step(batch, variables, opt_state, state_args, static_args)\n\u001b[0;32m----> <a href='vscode-notebook-cell://ssh-remote%2Bperl/global/homes/r/ruiqig/deepmd-jax/test.ipynb#X65sdnNjb2RlLXJlbW90ZQ%3D%3D?line=4'>5</a>\u001b[0m jax\u001b[39m.\u001b[39mblock_until_ready(variables)\n",
      "File \u001b[0;32m~/.conda/envs/deepmd-jax/lib/python3.9/contextlib.py:126\u001b[0m, in \u001b[0;36m_GeneratorContextManager.__exit__\u001b[0;34m(self, typ, value, traceback)\u001b[0m\n\u001b[1;32m    124\u001b[0m \u001b[39mif\u001b[39;00m typ \u001b[39mis\u001b[39;00m \u001b[39mNone\u001b[39;00m:\n\u001b[1;32m    125\u001b[0m     \u001b[39mtry\u001b[39;00m:\n\u001b[0;32m--> 126\u001b[0m         \u001b[39mnext\u001b[39;49m(\u001b[39mself\u001b[39;49m\u001b[39m.\u001b[39;49mgen)\n\u001b[1;32m    127\u001b[0m     \u001b[39mexcept\u001b[39;00m \u001b[39mStopIteration\u001b[39;00m:\n\u001b[1;32m    128\u001b[0m         \u001b[39mreturn\u001b[39;00m \u001b[39mFalse\u001b[39;00m\n",
      "File \u001b[0;32m~/.conda/envs/deepmd-jax/lib/python3.9/site-packages/jax/_src/profiler.py:237\u001b[0m, in \u001b[0;36mtrace\u001b[0;34m(log_dir, create_perfetto_link, create_perfetto_trace)\u001b[0m\n\u001b[1;32m    235\u001b[0m   \u001b[39myield\u001b[39;00m\n\u001b[1;32m    236\u001b[0m \u001b[39mfinally\u001b[39;00m:\n\u001b[0;32m--> 237\u001b[0m   stop_trace()\n",
      "File \u001b[0;32m~/.conda/envs/deepmd-jax/lib/python3.9/site-packages/jax/_src/profiler.py:200\u001b[0m, in \u001b[0;36mstop_trace\u001b[0;34m()\u001b[0m\n\u001b[1;32m    198\u001b[0m   abs_filename \u001b[39m=\u001b[39m _write_perfetto_trace_file(_profile_state\u001b[39m.\u001b[39mlog_dir)\n\u001b[1;32m    199\u001b[0m   \u001b[39mif\u001b[39;00m _profile_state\u001b[39m.\u001b[39mcreate_perfetto_link:\n\u001b[0;32m--> 200\u001b[0m     _host_perfetto_trace_file(abs_filename)\n\u001b[1;32m    201\u001b[0m _profile_state\u001b[39m.\u001b[39mprofile_session \u001b[39m=\u001b[39m \u001b[39mNone\u001b[39;00m\n\u001b[1;32m    202\u001b[0m _profile_state\u001b[39m.\u001b[39mcreate_perfetto_link \u001b[39m=\u001b[39m \u001b[39mFalse\u001b[39;00m\n",
      "File \u001b[0;32m~/.conda/envs/deepmd-jax/lib/python3.9/site-packages/jax/_src/profiler.py:183\u001b[0m, in \u001b[0;36m_host_perfetto_trace_file\u001b[0;34m(path)\u001b[0m\n\u001b[1;32m    180\u001b[0m     \u001b[39m# Once ui.perfetto.dev acquires trace.json from this server we can close\u001b[39;00m\n\u001b[1;32m    181\u001b[0m     \u001b[39m# it down.\u001b[39;00m\n\u001b[1;32m    182\u001b[0m     \u001b[39mwhile\u001b[39;00m httpd\u001b[39m.\u001b[39m\u001b[39m__dict__\u001b[39m\u001b[39m.\u001b[39mget(\u001b[39m'\u001b[39m\u001b[39mlast_request\u001b[39m\u001b[39m'\u001b[39m) \u001b[39m!=\u001b[39m \u001b[39m'\u001b[39m\u001b[39m/\u001b[39m\u001b[39m'\u001b[39m \u001b[39m+\u001b[39m filename:\n\u001b[0;32m--> 183\u001b[0m       httpd\u001b[39m.\u001b[39;49mhandle_request()\n\u001b[1;32m    184\u001b[0m \u001b[39mfinally\u001b[39;00m:\n\u001b[1;32m    185\u001b[0m   os\u001b[39m.\u001b[39mchdir(orig_directory)\n",
      "File \u001b[0;32m~/.conda/envs/deepmd-jax/lib/python3.9/socketserver.py:294\u001b[0m, in \u001b[0;36mBaseServer.handle_request\u001b[0;34m(self)\u001b[0m\n\u001b[1;32m    291\u001b[0m selector\u001b[39m.\u001b[39mregister(\u001b[39mself\u001b[39m, selectors\u001b[39m.\u001b[39mEVENT_READ)\n\u001b[1;32m    293\u001b[0m \u001b[39mwhile\u001b[39;00m \u001b[39mTrue\u001b[39;00m:\n\u001b[0;32m--> 294\u001b[0m     ready \u001b[39m=\u001b[39m selector\u001b[39m.\u001b[39;49mselect(timeout)\n\u001b[1;32m    295\u001b[0m     \u001b[39mif\u001b[39;00m ready:\n\u001b[1;32m    296\u001b[0m         \u001b[39mreturn\u001b[39;00m \u001b[39mself\u001b[39m\u001b[39m.\u001b[39m_handle_request_noblock()\n",
      "File \u001b[0;32m~/.conda/envs/deepmd-jax/lib/python3.9/selectors.py:416\u001b[0m, in \u001b[0;36m_PollLikeSelector.select\u001b[0;34m(self, timeout)\u001b[0m\n\u001b[1;32m    414\u001b[0m ready \u001b[39m=\u001b[39m []\n\u001b[1;32m    415\u001b[0m \u001b[39mtry\u001b[39;00m:\n\u001b[0;32m--> 416\u001b[0m     fd_event_list \u001b[39m=\u001b[39m \u001b[39mself\u001b[39;49m\u001b[39m.\u001b[39;49m_selector\u001b[39m.\u001b[39;49mpoll(timeout)\n\u001b[1;32m    417\u001b[0m \u001b[39mexcept\u001b[39;00m \u001b[39mInterruptedError\u001b[39;00m:\n\u001b[1;32m    418\u001b[0m     \u001b[39mreturn\u001b[39;00m ready\n",
      "\u001b[0;31mKeyboardInterrupt\u001b[0m: "
     ]
    }
   ],
   "source": [
    "with jax.profiler.trace(\"./trace\", create_perfetto_link=True):\n",
    "    for i in range(4):\n",
    "        batch, _ = train_data.get_batch(batch_size)\n",
    "        variables, opt_state, state_args = train_step(batch, variables, opt_state, state_args, static_args)\n",
    "    jax.block_until_ready(variables)"
   ]
  },
  {
   "cell_type": "code",
   "execution_count": null,
   "metadata": {},
   "outputs": [],
   "source": []
  }
 ],
 "metadata": {
  "kernelspec": {
   "display_name": "Python 3",
   "language": "python",
   "name": "python3"
  },
  "language_info": {
   "codemirror_mode": {
    "name": "ipython",
    "version": 3
   },
   "file_extension": ".py",
   "mimetype": "text/x-python",
   "name": "python",
   "nbconvert_exporter": "python",
   "pygments_lexer": "ipython3",
   "version": "3.9.18"
  },
  "orig_nbformat": 4
 },
 "nbformat": 4,
 "nbformat_minor": 2
}
