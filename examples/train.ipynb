{
 "cells": [
  {
   "cell_type": "code",
   "execution_count": 1,
   "metadata": {},
   "outputs": [
    {
     "name": "stdout",
     "output_type": "stream",
     "text": [
      "env: XLA_PYTHON_CLIENT_PREALLOCATE=false\n",
      "# Program start at 2023-11-21 16:00:19 on device: [cuda(id=0)]\n",
      "# Dataset loaded: 7797 frames/384 atoms. Path: \n",
      "# \t'/global/u2/r/ruiqig/deepmd-jax/examples/data/water_128_shifted'\n",
      "# Lattice vectors for neighbor images: Max 1 out of 1 condidates.\n",
      "# Model params: {'embed_widths': [32, 32], 'embedMP_widths': [64, 32, 64], 'fit_widths': [64, 64, 64], 'axis': 12, 'Ebias': array([ -93.55532, -187.11064], dtype=float32), 'rcut': 6.0, 'use_2nd': True, 'use_mp': True, 'atomic': False, 'nsel': None, 'out_norm': 1.0, 'sr_mean': [Array(0.07398456, dtype=float32), Array(0.06992824, dtype=float32)], 'sr_std': [Array(0.15338491, dtype=float32), Array(0.13181955, dtype=float32)], 'Nnbrs': Array(90.639206, dtype=float32)}\n",
      "# Model initialized. Precision: fp32. Parameter count: 232274.\n",
      "# Optimizer initialized, lr starts from 2.0e-03. Starting training...\n",
      "Iter       0 L 5.88560 LE 0.03687 LF 0.18612 Time 16.70s\n",
      "Iter    1000 L 2.57296 LE 0.01439 LF 0.08136 Time 25.53s\n",
      "Iter    2000 L 1.91320 LE 0.01780 LF 0.06050 Time 10.70s\n",
      "Iter    3000 L 1.67127 LE 0.02782 LF 0.05285 Time 10.70s\n",
      "Iter    4000 L 1.17714 LE 0.01221 LF 0.03722 Time 10.70s\n",
      "Iter    5000 L 1.30806 LE 0.02316 LF 0.04159 Time 10.70s\n"
     ]
    }
   ],
   "source": [
    "# Config parameters\n",
    "deepmd_jax_path = '../'           # Path to deepmd_jax package; change if you run this script at a different directory\n",
    "precision       = 'default'       # 'default'(fp32), 'low'(mixed 32-16), 'high'(fp64)\n",
    "save_name       = 'trained_models/new_dpmp_water32.pkl' # model save path\n",
    "model_type      = 'energy'        # 'energy' or 'atomic' (e.g. wannier)\n",
    "atomic_sel      = [0]             # select atom type for prediction (only for 'atomic' model)\n",
    "atomic_label    = 'atomic_dipole' # data file prefix for 'atomic' model; string must contain 'atomic'\n",
    "\n",
    "# Dataset in DeepMD-kit format; nested paths like [[dat1,dat2],[dat3]] allowed\n",
    "# Note: Here the atomic type index of dat1,dat2 must be the same, but that of dat3 can be different\n",
    "# train_paths     = ['data/chunyi_dplr/data/dipole_data']\n",
    "train_paths     = ['data/water_128_shifted/']\n",
    "# train_paths     = ['data/chunyi_dplr/data/energy_force_data/data_sr']\n",
    "# train_paths     = ['data/chunyi_dplr/data/energy_force_data/data/data' + str(i) for i in range(1,46)] \\\n",
    "#                    + ['data/chunyi_dplr/data/energy_force_data/data/data_ex' + str(i) for i in range(1,7)]\n",
    "use_val_data    = False           # if not, next line is ignored\n",
    "val_paths       = ['/pscratch/sd/r/ruiqig/polaron_cp2k/aimd/polaron_full_val']\n",
    "\n",
    "# Model parameters\n",
    "rcut            = 6.0             # cutoff radius (Angstrom)\n",
    "use_2nd_tensor  = True            # Use 2nd order tensor descriptor for more accuracy, slightly slower\n",
    "use_mp          = True            # Use message passing (DP-MP) model for even more accuracy (slower) \n",
    "compress        = False            # Compress model after training for faster inference. Rec: True  \n",
    "embed_widths    = [32,32,64]      # Rec: [32,32,64] (for accuracy try [48,48,96])\n",
    "embedMP_widths  = [32,64]         # Rec: [32,64]; Only used in MP; (Try [64,64] or [96,96] according to embed_widths)\n",
    "fit_widths      = [64,64,64]      # For 'atomic' model, fit_widths[-1] must equal embed_widths[-1](DP)/embedMP_widths[-1](DP-MP)\n",
    "axis_neurons    = 12              # Rec: 8-16\n",
    "\n",
    "# Training parameters\n",
    "batch_size      = 1               # training batch size; Rec: 128 <= labels_per_frame*batch_size <= 512\n",
    "val_batch_size  = 8               # validation batch size. Too much can cause OOM error.\n",
    "lr              = 0.002           # learning rate at start. Rec: 0.001/0.002 for 'energy', 0.01 for 'atomic'\n",
    "s_pref_e        = 0.02            # starting prefactor for energy loss\n",
    "l_pref_e        = 1               # limit prefactor for energy loss, increase for energy accuracy\n",
    "s_pref_f        = 1000            # starting prefactor for force loss\n",
    "l_pref_f        = 1               # limit prefactor for force loss, increase for force accuracy\n",
    "total_steps     = 200000          # total training steps. Rec: 1e6 for 'energy', 1e5 for 'atomic'\n",
    "print_every     = 1000            # for printing loss and validation\n",
    "\n",
    "# parameters you usually don't need to change\n",
    "lr_limit        = 5e-7            # learning rate at end of training\n",
    "compress_Ngrids = 512             # Number of intervals used in compression\n",
    "compress_rmin   = 0.6             # Lower bound for interatomic distance in compression\n",
    "beta2           = 0.99            # adam optimizer parameter\n",
    "l_smoothing     = 20              # smoothing factor for loss printing\n",
    "decay_steps     = 5000            # learning rate exponentially decays every decay_steps\n",
    "getstat_bs      = 64              # batch size for computing model statistics at initialization\n",
    "\n",
    "# From here on you don't need to change anything unless you know what you are doing\n",
    "%env XLA_PYTHON_CLIENT_PREALLOCATE=false\n",
    "import numpy as np\n",
    "from jax import jit, random, tree_util\n",
    "import jax, optax, sys, os, datetime\n",
    "import flax.linen as nn\n",
    "from time import time\n",
    "from functools import partial\n",
    "sys.path.append(os.path.abspath(deepmd_jax_path))\n",
    "from deepmd_jax import data, utils\n",
    "from deepmd_jax.dpmodel import DPModel, compress_model\n",
    "if precision == 'default':\n",
    "    jax.config.update('jax_default_matmul_precision', 'float32')\n",
    "if precision == 'high':\n",
    "    jax.config.update('jax_enable_x64', True)\n",
    "TIC = time()\n",
    "print('# Program start at', datetime.datetime.now().strftime(\"%Y-%m-%d %H:%M:%S\"), 'on device:', jax.devices()[:1])\n",
    "\n",
    "labels = ['coord','box'] + (['force','energy'] if model_type == 'energy' else [atomic_label])\n",
    "train_data     = data.DPDataset(train_paths, labels, {'atomic_sel':atomic_sel})\n",
    "val_data       = data.DPDataset(val_paths, labels, {'atomic_sel':atomic_sel}) if use_val_data else None\n",
    "model = DPModel({'embed_widths':embed_widths[:-1] if use_mp else embed_widths,\n",
    "                 'embedMP_widths':embed_widths[-1:] + embedMP_widths if use_mp else None,\n",
    "                 'fit_widths':fit_widths,\n",
    "                 'axis':axis_neurons,\n",
    "                 'Ebias':train_data.fit_energy() if model_type == 'energy' else None,\n",
    "                 'rcut':rcut,\n",
    "                 'use_2nd':use_2nd_tensor,\n",
    "                 'use_mp':use_mp,\n",
    "                 'atomic':True if model_type == 'atomic' else False,\n",
    "                 'nsel':atomic_sel if model_type == 'atomic' else None,\n",
    "                 'out_norm': 1. if model_type == 'energy' else train_data.get_atomic_label_scale()})\n",
    "train_data.compute_lattice_candidate(rcut)\n",
    "if use_val_data:\n",
    "    val_data.compute_lattice_candidate(rcut)\n",
    "batch, type_count, lattice_args = train_data.get_batch(getstat_bs)\n",
    "static_args         = nn.FrozenDict({'type_count':type_count, 'lattice':lattice_args})\n",
    "model.get_stats(batch['coord'], batch['box'], static_args)\n",
    "print('# Model params:', model.params)\n",
    "variables           = model.init(random.PRNGKey(np.random.randint(42)), batch['coord'][0], batch['box'][0], static_args)\n",
    "print('# Model initialized. Precision: %s. Parameter count: %d.' % \n",
    "            ({'default': 'fp32', 'low': 'fp32-16', 'high': 'fp64'}[precision], \n",
    "            sum(i.size for i in tree_util.tree_flatten(variables)[0])))\n",
    "lr_scheduler        = optax.exponential_decay(init_value=lr, transition_steps=decay_steps,\n",
    "                        decay_rate=(lr_limit/lr)**(decay_steps/(total_steps-decay_steps)), transition_begin=0, staircase=True)\n",
    "optimizer           = optax.adam(learning_rate=lr_scheduler, b2=beta2)\n",
    "opt_state           = optimizer.init(variables)\n",
    "loss, loss_and_grad = model.get_loss_fn()\n",
    "print('# Optimizer initialized, lr starts from %.1e. Starting training...' % lr)\n",
    "\n",
    "state = {'loss_avg':0., 'iteration':0} | ({} if model_type == 'atomic' else {'le_avg':0., 'lf_avg':0.})\n",
    "@partial(jit, static_argnums=(4,))\n",
    "def train_step(batch, variables, opt_state, state, static_args):\n",
    "    r = lr_scheduler(state['iteration']) / lr\n",
    "    if model_type == 'energy':\n",
    "        pref = {'e': s_pref_e*r + l_pref_e*(1-r), 'f': s_pref_f*r + l_pref_f*(1-r)}\n",
    "        (loss_total, (loss_e, loss_f)), grads = loss_and_grad(variables, batch, pref, static_args)\n",
    "        for key, value in zip(['loss_avg', 'le_avg', 'lf_avg'], [loss_total, loss_e, loss_f]):\n",
    "            state[key] = state[key] * (1-1/l_smoothing) + value\n",
    "    else:\n",
    "        loss_total, grads = loss_and_grad(variables, batch, static_args)\n",
    "        state['loss_avg'] = state['loss_avg'] * (1-1/l_smoothing) + loss_total\n",
    "    updates, opt_state = optimizer.update(grads, opt_state, variables)\n",
    "    variables = optax.apply_updates(variables, updates)\n",
    "    state['iteration'] += 1\n",
    "    return variables, opt_state, state\n",
    "\n",
    "@partial(jit, static_argnums=(2,))\n",
    "def val_step(batch, variables, static_args):\n",
    "    if model_type == 'energy':\n",
    "        pref = {'e': 1, 'f': 1}\n",
    "        _, (loss_e, loss_f) = loss(variables, batch, pref, static_args)\n",
    "        return loss_e, loss_f\n",
    "    else:\n",
    "        loss_total = loss(variables, batch, static_args)\n",
    "        return loss_total\n",
    "\n",
    "tic = time()\n",
    "for iteration in range(total_steps+1):\n",
    "    batch, type_count, lattice_args = train_data.get_batch(batch_size)\n",
    "    static_args = nn.FrozenDict({'type_count':tuple(type_count), 'lattice':lattice_args})\n",
    "    variables, opt_state, state = train_step(batch, variables, opt_state, state, static_args)\n",
    "    if iteration % print_every == 0:\n",
    "        if use_val_data:\n",
    "            val_batch, type_count, lattice_args = val_data.get_batch(val_batch_size)\n",
    "            static_args = nn.FrozenDict({'type_count':tuple(type_count), 'lattice':lattice_args})\n",
    "            loss_val = val_step(val_batch, variables, static_args)\n",
    "        beta = l_smoothing * (1 - (1/l_smoothing)**(iteration+1))\n",
    "        print('Iter %7d' % iteration\n",
    "              + ' L %7.5f' % (state['loss_avg']/beta)**0.5\n",
    "              + (' LE %7.5f' % (state['le_avg']/beta)**0.5 if model_type == 'energy' else '')\n",
    "              + (' LF %7.5f' % (state['lf_avg']/beta)**0.5 if model_type == 'energy' else '')\n",
    "              + (' LEval %7.5f' % loss_val[0]**0.5 if model_type == 'energy' and use_val_data else '')\n",
    "              + (' LFval %7.5f' % loss_val[1]**0.5 if model_type == 'energy' and use_val_data else '')\n",
    "              + (' Lval %7.5f' % loss_val**0.5 if model_type == 'atomic' and use_val_data else '')\n",
    "              + ' Time %.2fs' % (time()-tic))\n",
    "        tic = time()\n",
    "if compress:\n",
    "    model, variables = utils.compress_model(model, variables, compress_Ngrids, compress_rmin)\n",
    "utils.save_model(save_name, model, variables)\n",
    "T = int(time() - TIC)\n",
    "print('# Training finished in %dh %dm %ds.' % (T//3600,(T%3600)//60,T%60))"
   ]
  },
  {
   "cell_type": "code",
   "execution_count": 18,
   "metadata": {},
   "outputs": [
    {
     "name": "stdout",
     "output_type": "stream",
     "text": [
      "# Model Compressed: 12 embedding nets, 512 intervals\n",
      "# Compression (0,1,2)-order error: Mean = (5.89e-10,-3.66e-09,4.55e-09), Max = (1.85e-06,3.33e-04,9.86e-02)\n",
      "# Model saved to 'trained_models/new_dpmp_water32_512.pkl'.\n"
     ]
    }
   ],
   "source": [
    "K = 512\n",
    "model, variables = utils.compress_model(model, variables, K, compress_rmin)\n",
    "utils.save_model('trained_models/new_dpmp_water32_%d.pkl' % K, model, variables)"
   ]
  },
  {
   "cell_type": "code",
   "execution_count": 6,
   "metadata": {},
   "outputs": [
    {
     "data": {
      "text/plain": [
       "{'Dense_0': {'bias': Array([-0.8396764 , -1.0154009 , -1.691621  , -1.4928366 , -0.99803644,\n",
       "         -0.3937565 ,  1.4541517 , -1.4609375 ,  0.09648626,  0.48089167,\n",
       "         -0.8094328 , -0.00937582,  0.5898745 , -0.44914672, -0.21979809,\n",
       "         -1.3450179 , -0.03266433, -1.590267  ,  0.5863063 ,  1.0685049 ,\n",
       "         -1.8966684 , -1.2331761 ,  0.8734083 , -0.03038383,  1.1027796 ,\n",
       "         -0.26251793, -0.40790206,  1.8127995 , -0.8504793 , -1.417038  ,\n",
       "         -0.41342875,  0.57052225], dtype=float32),\n",
       "  'kernel': Array([[ 0.08466616,  0.98422074,  1.8038992 ,  1.9243914 , -0.15118173,\n",
       "           0.02932002, -0.99484634, -1.7498332 , -0.75261754, -2.757929  ,\n",
       "          -1.181265  ,  1.1576533 ,  2.1028063 , -0.7846596 ,  0.07424919,\n",
       "          -0.96408   , -0.11312111,  1.6346731 , -0.55727684,  1.7680553 ,\n",
       "           1.646924  ,  0.7758255 ,  2.5110724 , -0.12695982, -1.214302  ,\n",
       "           0.67151517,  2.3882713 , -1.7254474 , -2.2024899 , -0.66589165,\n",
       "           1.1127348 , -1.276011  ]], dtype=float32)},\n",
       " 'Dense_1': {'bias': Array([ 0.29516202, -0.5193112 , -0.8622597 , -1.8603587 , -0.57748073,\n",
       "          1.4621825 ,  0.20179026, -0.02236522, -0.17396916,  0.69607157,\n",
       "         -0.91610193, -1.8675808 , -0.35137972, -1.5334764 ,  0.57104367,\n",
       "          1.6172642 , -0.5746493 , -0.7909925 , -0.21107231, -1.6188455 ,\n",
       "          0.43856022,  0.02797113, -0.5456043 ,  0.07778638,  0.40235004,\n",
       "         -0.10256894,  0.87771666, -1.48946   ,  0.30622435, -0.34827965,\n",
       "         -0.07779101,  1.8441702 ], dtype=float32),\n",
       "  'kernel': Array([[-0.163488  , -0.15624033, -0.38412488, ...,  0.18275212,\n",
       "          -0.4898107 ,  0.53666306],\n",
       "         [-0.20632061,  0.06137433, -0.26525956, ..., -0.18303806,\n",
       "          -0.42769814, -0.3985429 ],\n",
       "         [-0.35813203,  0.17553861, -0.16871655, ...,  1.7297187 ,\n",
       "          -0.05425438, -0.365698  ],\n",
       "         ...,\n",
       "         [-0.5349762 , -0.15484406, -0.5324034 , ..., -0.0385831 ,\n",
       "          -0.539623  ,  0.12447224],\n",
       "         [-0.10957386, -0.29263422,  0.16408186, ...,  0.05978736,\n",
       "          -0.00749664, -0.16376397],\n",
       "         [ 0.3774953 , -0.44856536, -0.36940423, ..., -0.40924546,\n",
       "          -0.51007485, -0.2009079 ]], dtype=float32)}}"
      ]
     },
     "execution_count": 6,
     "metadata": {},
     "output_type": "execute_result"
    }
   ],
   "source": [
    "variables['params']['embedding_net_2']"
   ]
  },
  {
   "cell_type": "code",
   "execution_count": null,
   "metadata": {},
   "outputs": [],
   "source": []
  },
  {
   "cell_type": "code",
   "execution_count": null,
   "metadata": {},
   "outputs": [
    {
     "name": "stdout",
     "output_type": "stream",
     "text": [
      "(64,)Tbias\n",
      "(32,)embedding_net_0/Dense_0/bias\n",
      "(1, 32)embedding_net_0/Dense_0/kernel\n",
      "(32,)embedding_net_0/Dense_1/bias\n",
      "(32, 32)embedding_net_0/Dense_1/kernel\n",
      "(32, 32)embedding_net_0/Dense_2/kernel\n",
      "(32,)embedding_net_1/Dense_0/bias\n",
      "(1, 32)embedding_net_1/Dense_0/kernel\n",
      "(32,)embedding_net_1/Dense_1/bias\n",
      "(32, 32)embedding_net_1/Dense_1/kernel\n",
      "(32, 32)embedding_net_1/Dense_2/kernel\n",
      "(32,)embedding_net_10/Dense_0/bias\n",
      "(1, 32)embedding_net_10/Dense_0/kernel\n",
      "(32,)embedding_net_10/Dense_1/bias\n",
      "(32, 32)embedding_net_10/Dense_1/kernel\n",
      "(32,)embedding_net_11/Dense_0/bias\n",
      "(1, 32)embedding_net_11/Dense_0/kernel\n",
      "(32,)embedding_net_11/Dense_1/bias\n",
      "(32, 32)embedding_net_11/Dense_1/kernel\n",
      "(64,)embedding_net_12/Dense_0/bias\n",
      "(64, 64)embedding_net_12/Dense_0/kernel\n",
      "(64,)embedding_net_12/Dense_1/bias\n",
      "(64, 64)embedding_net_12/Dense_1/kernel\n",
      "(64,)embedding_net_12/bias\n",
      "(64,)embedding_net_12/dt2\n",
      "(64,)embedding_net_13/Dense_0/bias\n",
      "(64, 64)embedding_net_13/Dense_0/kernel\n",
      "(64,)embedding_net_13/Dense_1/bias\n",
      "(64, 64)embedding_net_13/Dense_1/kernel\n",
      "(64,)embedding_net_13/bias\n",
      "(64,)embedding_net_13/dt2\n",
      "(64,)embedding_net_14/Dense_0/bias\n",
      "(64, 64)embedding_net_14/Dense_0/kernel\n",
      "(64,)embedding_net_14/Dense_1/bias\n",
      "(64, 64)embedding_net_14/Dense_1/kernel\n",
      "(64,)embedding_net_14/bias\n",
      "(64,)embedding_net_14/dt2\n",
      "(64,)embedding_net_15/Dense_0/bias\n",
      "(64, 64)embedding_net_15/Dense_0/kernel\n",
      "(64,)embedding_net_15/Dense_1/bias\n",
      "(64, 64)embedding_net_15/Dense_1/kernel\n",
      "(64,)embedding_net_15/bias\n",
      "(64,)embedding_net_15/dt2\n",
      "(32,)embedding_net_2/Dense_0/bias\n",
      "(1, 32)embedding_net_2/Dense_0/kernel\n",
      "(32,)embedding_net_2/Dense_1/bias\n",
      "(32, 32)embedding_net_2/Dense_1/kernel\n",
      "(32, 32)embedding_net_2/Dense_2/kernel\n",
      "(32,)embedding_net_3/Dense_0/bias\n",
      "(1, 32)embedding_net_3/Dense_0/kernel\n",
      "(32,)embedding_net_3/Dense_1/bias\n",
      "(32, 32)embedding_net_3/Dense_1/kernel\n",
      "(32, 32)embedding_net_3/Dense_2/kernel\n",
      "(32,)embedding_net_4/Dense_0/bias\n",
      "(1, 32)embedding_net_4/Dense_0/kernel\n",
      "(32,)embedding_net_4/Dense_1/bias\n",
      "(32, 32)embedding_net_4/Dense_1/kernel\n",
      "(32,)embedding_net_5/Dense_0/bias\n",
      "(1, 32)embedding_net_5/Dense_0/kernel\n",
      "(32,)embedding_net_5/Dense_1/bias\n",
      "(32, 32)embedding_net_5/Dense_1/kernel\n",
      "(32,)embedding_net_6/Dense_0/bias\n",
      "(1, 32)embedding_net_6/Dense_0/kernel\n",
      "(32,)embedding_net_6/Dense_1/bias\n",
      "(32, 32)embedding_net_6/Dense_1/kernel\n",
      "(32,)embedding_net_7/Dense_0/bias\n",
      "(1, 32)embedding_net_7/Dense_0/kernel\n",
      "(32,)embedding_net_7/Dense_1/bias\n",
      "(32, 32)embedding_net_7/Dense_1/kernel\n",
      "(32,)embedding_net_8/Dense_0/bias\n",
      "(1, 32)embedding_net_8/Dense_0/kernel\n",
      "(32,)embedding_net_8/Dense_1/bias\n",
      "(32, 32)embedding_net_8/Dense_1/kernel\n",
      "(32,)embedding_net_9/Dense_0/bias\n",
      "(1, 32)embedding_net_9/Dense_0/kernel\n",
      "(32,)embedding_net_9/Dense_1/bias\n",
      "(32, 32)embedding_net_9/Dense_1/kernel\n",
      "(128,)fitting_net_0/Dense_0/bias\n",
      "(768, 128)fitting_net_0/Dense_0/kernel\n",
      "(128,)fitting_net_0/Dense_1/bias\n",
      "(128, 128)fitting_net_0/Dense_1/kernel\n",
      "(128,)fitting_net_0/Dense_2/bias\n",
      "(128, 128)fitting_net_0/Dense_2/kernel\n",
      "(1,)fitting_net_0/Dense_3/bias\n",
      "(128, 1)fitting_net_0/Dense_3/kernel\n",
      "(128,)fitting_net_0/dt1\n",
      "(128,)fitting_net_0/dt2\n",
      "(128,)fitting_net_1/Dense_0/bias\n",
      "(768, 128)fitting_net_1/Dense_0/kernel\n",
      "(128,)fitting_net_1/Dense_1/bias\n",
      "(128, 128)fitting_net_1/Dense_1/kernel\n",
      "(128,)fitting_net_1/Dense_2/bias\n",
      "(128, 128)fitting_net_1/Dense_2/kernel\n",
      "(1,)fitting_net_1/Dense_3/bias\n",
      "(128, 1)fitting_net_1/Dense_3/kernel\n",
      "(128,)fitting_net_1/dt1\n",
      "(128,)fitting_net_1/dt2\n",
      "(128, 64)linear_norm_0/Dense_0/kernel\n",
      "(1,)linear_norm_0/norm\n",
      "(128, 64)linear_norm_1/Dense_0/kernel\n",
      "(1,)linear_norm_1/norm\n",
      "(128, 64)linear_norm_10/Dense_0/kernel\n",
      "(1,)linear_norm_10/norm\n",
      "(32, 64)linear_norm_11/Dense_0/kernel\n",
      "(1,)linear_norm_11/norm\n",
      "(32, 64)linear_norm_2/Dense_0/kernel\n",
      "(1,)linear_norm_2/norm\n",
      "(128, 64)linear_norm_3/Dense_0/kernel\n",
      "(1,)linear_norm_3/norm\n",
      "(128, 64)linear_norm_4/Dense_0/kernel\n",
      "(1,)linear_norm_4/norm\n",
      "(32, 64)linear_norm_5/Dense_0/kernel\n",
      "(1,)linear_norm_5/norm\n",
      "(128, 64)linear_norm_6/Dense_0/kernel\n",
      "(1,)linear_norm_6/norm\n",
      "(128, 64)linear_norm_7/Dense_0/kernel\n",
      "(1,)linear_norm_7/norm\n",
      "(32, 64)linear_norm_8/Dense_0/kernel\n",
      "(1,)linear_norm_8/norm\n",
      "(128, 64)linear_norm_9/Dense_0/kernel\n",
      "(1,)linear_norm_9/norm\n"
     ]
    }
   ],
   "source": [
    "var_name = ['/'.join([j.key for j in i[0]][1:]) for i in tree_util.tree_flatten_with_path(variables)[0]]\n",
    "var_value = tree_util.tree_leaves(variables)\n",
    "print('\\n'.join([str(i.shape) + j for i, j in zip(var_value, var_name)]))"
   ]
  },
  {
   "cell_type": "code",
   "execution_count": 4,
   "metadata": {},
   "outputs": [],
   "source": [
    "i = 3\n",
    "pred, debug = model.apply(variables, train_data.data['coord'][i], train_data.data['box'][i], static_args)\n",
    "T_NXW = debug\n",
    "# print('\\n'.join(['%.5f' % np.std(i).item() for i in [G0_ND, G1_ND, G2_ND, G_12_ND, G_ND]]), '\\n...')\n",
    "# print('\\n'.join(['%.5f' % np.max(i).item() for i in [G0_ND, G1_ND, G2_ND, G_12_ND, G_ND]]), '\\n...')\n",
    "# print('\\n'.join(['%.5f' % np.std(i).item() for i in [G0_ND[:,:16], G1_ND[:,:16], G2_ND[:,:16]]]))"
   ]
  },
  {
   "cell_type": "code",
   "execution_count": 8,
   "metadata": {},
   "outputs": [
    {
     "data": {
      "text/plain": [
       "(array([2, 3, 5, 0, 1, 4]), array([0, 1, 2]))"
      ]
     },
     "execution_count": 8,
     "metadata": {},
     "output_type": "execute_result"
    }
   ],
   "source": [
    "np.array([1,1,0,0,1,0]).argsort(), np.array([0,0,0]).argsort()"
   ]
  },
  {
   "cell_type": "code",
   "execution_count": 18,
   "metadata": {},
   "outputs": [
    {
     "data": {
      "text/plain": [
       "array([ 0,  1,  2,  3,  4,  5,  6,  7,  8,  9, 10, 11, 12, 13, 14, 15, 16,\n",
       "       17, 18, 19, 20, 21, 22, 23, 24, 25, 26, 27, 28, 29, 30, 31, 32, 33,\n",
       "       34, 35])"
      ]
     },
     "execution_count": 18,
     "metadata": {},
     "output_type": "execute_result"
    }
   ],
   "source": [
    "a = np.array([5,5,5,5,5,5,5,5,5,5,5,5,5,5,5,5,5,5,5,5,5,5,5,5,5,5,5,5,5,5,5,5,5,5,5,5])\n",
    "a.argsort(kind='stable')"
   ]
  },
  {
   "cell_type": "code",
   "execution_count": 6,
   "metadata": {},
   "outputs": [
    {
     "data": {
      "text/plain": [
       "Array([[ 2.61113122e-02,  9.96000227e-03, -4.20079660e-03],\n",
       "       [-2.65027173e-02,  3.42381699e-03, -5.27217519e-03],\n",
       "       [ 3.25447554e-03,  1.24194594e-02,  3.20723578e-02],\n",
       "       [-9.73710418e-03,  2.08917260e-02, -1.38316546e-02],\n",
       "       [ 6.56365184e-04, -3.19563760e-03, -1.71119887e-02],\n",
       "       [-1.67872813e-02, -3.00753191e-02, -1.60620436e-02],\n",
       "       [ 2.33554021e-02,  1.13518955e-02,  3.06474622e-02],\n",
       "       [ 1.08380998e-02, -2.67728344e-02,  1.81289315e-02],\n",
       "       [-1.43451858e-02, -4.52540629e-03,  7.49828061e-03],\n",
       "       [-1.49498964e-02,  1.01676295e-02,  4.90195910e-03],\n",
       "       [ 2.78995223e-02, -1.20553840e-02,  1.22942552e-02],\n",
       "       [ 3.97605036e-04,  2.66066585e-02,  7.62388483e-03],\n",
       "       [-7.47938966e-03,  4.21842858e-02, -3.32087954e-03],\n",
       "       [ 2.07224824e-02, -1.57482475e-02,  1.24762543e-02],\n",
       "       [-1.64989214e-02, -1.12680998e-02,  3.08945291e-02],\n",
       "       [ 1.57043841e-02, -1.55385165e-02,  1.97541583e-02],\n",
       "       [ 9.07190889e-03,  3.31619680e-02, -5.11315279e-03],\n",
       "       [ 2.89387647e-02,  1.98825411e-02,  6.14820421e-03],\n",
       "       [-4.36350144e-02,  2.22570752e-03, -5.36372932e-03],\n",
       "       [-2.50677299e-02,  2.24692393e-02, -4.92429966e-03],\n",
       "       [-1.70925669e-02,  2.14578379e-02, -1.74506139e-02],\n",
       "       [-7.43212597e-03,  1.36693139e-02,  2.97579560e-02],\n",
       "       [-2.58386359e-02,  3.81579511e-02,  3.68233467e-03],\n",
       "       [ 3.85099859e-03, -5.89808496e-03, -4.14321721e-02],\n",
       "       [-1.96079388e-02,  1.91646963e-02,  3.25501896e-02],\n",
       "       [ 3.59186437e-03, -1.85969211e-02, -1.27292052e-02],\n",
       "       [-2.53394358e-02, -2.33822763e-02,  5.05547458e-03],\n",
       "       [-1.64153185e-02, -2.00316608e-02,  8.61015078e-03],\n",
       "       [-1.46327335e-02,  1.73177570e-02, -2.55722124e-02],\n",
       "       [-4.66532633e-02, -4.94053122e-03,  1.28574539e-02],\n",
       "       [-2.47403774e-02, -2.24660314e-03,  8.03058781e-03],\n",
       "       [-2.25104988e-02, -4.08532610e-03, -2.92568784e-02],\n",
       "       [-2.55405810e-02, -4.02440457e-03, -1.92495007e-02],\n",
       "       [ 1.68825779e-02,  2.96270605e-02,  3.14435624e-02],\n",
       "       [ 2.51189414e-02, -3.08789290e-03,  1.55197969e-02],\n",
       "       [-2.16990970e-02,  2.04862989e-02, -2.85838527e-04],\n",
       "       [ 1.41927050e-02, -3.92205827e-03, -1.97660383e-02],\n",
       "       [-1.22701051e-02, -8.80637392e-03,  2.15751585e-02],\n",
       "       [ 2.33454499e-02, -4.83643962e-03,  1.05186775e-02],\n",
       "       [ 2.37381402e-02, -1.24093592e-02,  1.56388581e-02],\n",
       "       [-8.11967067e-03, -1.20659582e-02, -1.82347782e-02],\n",
       "       [-3.10435891e-02,  2.00510677e-02, -1.79072302e-02],\n",
       "       [ 3.39271821e-04,  2.45489217e-02, -1.91269685e-02],\n",
       "       [-2.76103942e-03, -2.56039761e-02, -1.54803135e-02],\n",
       "       [ 9.79795493e-03, -2.29879934e-02, -6.01890788e-04],\n",
       "       [ 1.31382430e-02,  2.62973402e-02,  1.27369044e-02],\n",
       "       [-2.87207700e-02,  1.06820911e-02, -1.11506088e-03],\n",
       "       [ 2.27708649e-02,  2.46812459e-02,  3.82683147e-03],\n",
       "       [-1.13596832e-02,  1.54883834e-02,  1.34030040e-02],\n",
       "       [-2.12407880e-03,  1.64662451e-02, -2.26994809e-02],\n",
       "       [ 2.44689314e-03,  3.00135035e-02, -2.11690310e-02],\n",
       "       [-9.50632803e-03, -9.79746226e-03,  1.95873491e-02],\n",
       "       [-2.32040919e-02,  1.65007636e-02, -1.14248572e-02],\n",
       "       [ 6.41802838e-03,  3.09210159e-02,  5.24718314e-03],\n",
       "       [-3.30875851e-02,  8.68558325e-03, -2.14122050e-02],\n",
       "       [ 1.76400449e-02, -4.95054480e-03, -9.34721529e-03],\n",
       "       [-2.14481242e-02,  2.13112519e-03,  4.00459347e-03],\n",
       "       [ 6.30517537e-03,  2.76375078e-02, -1.76425707e-02],\n",
       "       [ 1.93913784e-02, -1.24546405e-05, -1.60814784e-02],\n",
       "       [ 2.19004136e-03,  1.41827855e-02, -1.12625714e-02],\n",
       "       [ 6.43644528e-03, -1.03021301e-02, -2.16962267e-02],\n",
       "       [ 2.92917974e-02, -1.37168942e-02,  9.61622410e-03],\n",
       "       [-1.80498790e-02,  5.20134084e-02,  6.37071673e-04],\n",
       "       [ 2.56704702e-03,  2.88888700e-02,  1.08356122e-02]],      dtype=float32)"
      ]
     },
     "execution_count": 6,
     "metadata": {},
     "output_type": "execute_result"
    }
   ],
   "source": [
    "pred * "
   ]
  },
  {
   "cell_type": "code",
   "execution_count": 5,
   "metadata": {},
   "outputs": [
    {
     "data": {
      "text/plain": [
       "((64, 3), (64, 4, 64))"
      ]
     },
     "execution_count": 5,
     "metadata": {},
     "output_type": "execute_result"
    }
   ],
   "source": [
    "pred.shape, debug.shape"
   ]
  },
  {
   "cell_type": "code",
   "execution_count": 9,
   "metadata": {},
   "outputs": [
    {
     "name": "stdout",
     "output_type": "stream",
     "text": [
      "SingleDataSystem loaded from: \n",
      " '/global/u2/r/ruiqig/deepmd-jax/examples/data/water_yifan/2'\n",
      " with 1153 frames and 192 atoms per frame.\n"
     ]
    },
    {
     "data": {
      "text/plain": [
       "[<matplotlib.lines.Line2D at 0x7f3e0867c880>]"
      ]
     },
     "execution_count": 9,
     "metadata": {},
     "output_type": "execute_result"
    },
    {
     "data": {
      "image/png": "[encoded data removed]",
      "text/plain": [
       "<Figure size 640x480 with 1 Axes>"
      ]
     },
     "metadata": {},
     "output_type": "display_data"
    }
   ],
   "source": [
    "# train_data = SingleDataSystem(['data/water_yifan/2'], ['coord', 'box', 'force', 'energy'])\n",
    "# import matplotlib.pyplot as plt\n",
    "# plt.plot(train_data.data['force'].flatten())"
   ]
  },
  {
   "cell_type": "code",
   "execution_count": 2,
   "metadata": {},
   "outputs": [
    {
     "name": "stdout",
     "output_type": "stream",
     "text": [
      "[14.659093  0.        0.        0.       13.902575  0.        0.\n",
      "  0.        8.470338]\n"
     ]
    }
   ],
   "source": [
    "import numpy as np\n",
    "# path = 'data_ex6'\n",
    "box = np.load('/global/homes/r/ruiqig/deepmd-jax/examples/data/water_yifan/2/set.000/box.npy').min(axis=0)\n",
    "# natoms = np.load('/global/homes/r/ruiqig/deepmd-jax/examples/data/water_chunyi/data/' + path + '/set.000/coord.npy').shape[1] // 3\n",
    "print(box) \n",
    "# print(natoms)"
   ]
  },
  {
   "cell_type": "code",
   "execution_count": 6,
   "metadata": {},
   "outputs": [],
   "source": [
    "path = '/global/homes/r/ruiqig/deepmd-jax/examples/data/water_yifan/'\n",
    "paths = [path + '1/']"
   ]
  },
  {
   "cell_type": "code",
   "execution_count": 7,
   "metadata": {},
   "outputs": [
    {
     "name": "stdout",
     "output_type": "stream",
     "text": [
      "(1517, 9) (1517, 576) (1517,) (1517, 576)\n",
      "(1502, 9) (1502, 576) (1502,) (1502, 576)\n"
     ]
    }
   ],
   "source": [
    "coord, box, energy, force = [], [], [], []\n",
    "for path in paths:\n",
    "    coord.append(np.load(path + '/set.000/coord.npy'))\n",
    "    force.append(np.load(path + '/set.000/force.npy'))\n",
    "    box.append(np.load(path + '/set.000/box.npy'))\n",
    "    energy.append(np.load(path + '/set.000/energy.npy'))\n",
    "coord = np.concatenate(coord)\n",
    "box = np.concatenate(box)\n",
    "energy = np.concatenate(energy)\n",
    "force = np.concatenate(force)\n",
    "idx = ((box[:,::4]).min(1) > 12)\n",
    "# idx = ((box[:,::4]).min(1) > 10)\n",
    "print(box.shape, coord.shape, energy.shape, force.shape)\n",
    "box = box[idx]\n",
    "coord = coord[idx]\n",
    "energy = energy[idx]\n",
    "force = force[idx]\n",
    "print(box.shape, coord.shape, energy.shape, force.shape)\n",
    "np.save('/global/u2/r/ruiqig/deepmd-jax/examples/data/water_yifan/11/set.000/coord.npy', coord)\n",
    "np.save('/global/u2/r/ruiqig/deepmd-jax/examples/data/water_yifan/11/set.000/box.npy', box)\n",
    "np.save('/global/u2/r/ruiqig/deepmd-jax/examples/data/water_yifan/11/set.000/energy.npy', energy)\n",
    "np.save('/global/u2/r/ruiqig/deepmd-jax/examples/data/water_yifan/11/set.000/force.npy', force)"
   ]
  },
  {
   "cell_type": "code",
   "execution_count": 32,
   "metadata": {},
   "outputs": [],
   "source": [
    "paths = ['data%d' % i for i in range(1, 46)] + ['data_ex%d' % i for i in range(1, 7)]\n",
    "paths = ['/global/homes/r/ruiqig/deepmd-jax/examples/data/water_chunyi/data/' + path for path in paths]"
   ]
  }
 ],
 "metadata": {
  "kernelspec": {
   "display_name": "Python 3",
   "language": "python",
   "name": "python3"
  },
  "language_info": {
   "codemirror_mode": {
    "name": "ipython",
    "version": 3
   },
   "file_extension": ".py",
   "mimetype": "text/x-python",
   "name": "python",
   "nbconvert_exporter": "python",
   "pygments_lexer": "ipython3",
   "version": "3.10.13"
  },
  "orig_nbformat": 4
 },
 "nbformat": 4,
 "nbformat_minor": 2
}
