{
 "cells": [
  {
   "cell_type": "code",
   "execution_count": 1,
   "metadata": {},
   "outputs": [
    {
     "name": "stderr",
     "output_type": "stream",
     "text": [
      "2024-11-02 23:57:12.708243: W external/xla/xla/service/gpu/nvptx_compiler.cc:930] The NVIDIA driver's CUDA version is 12.2 which is older than the PTX compiler version 12.6.77. Because the driver is older than the PTX compiler version, XLA is disabling parallel compilation, which may slow down compilation. You should update your NVIDIA driver or use the NVIDIA-provided CUDA forward compatibility packages.\n"
     ]
    },
    {
     "name": "stdout",
     "output_type": "stream",
     "text": [
      "# DeepMD-JAX: Starting on 1 device(s): [CudaDevice(id=0)]\n",
      "# Model loaded from '/root/water.pkl'.\n",
      "# Lattice vectors for neighbor images: Max 1 out of 1 condidates.\n",
      "Energy/Force error:  0.09313945774192689 12.687433180656557\n",
      "# Running 1 steps...\n",
      "Step     Temperature  KE           PE           Pressure     Invariant    Time  \n",
      "0        315.324      15.651       -59878.626   -782.501     -59862.972   4.234 \n",
      "1        316.423      15.706       -59878.629   -759.715     -59862.921   12.672\n",
      "# Finished 1 steps in 0h 0m 16s.\n",
      "# Performance: 0.000 ns/day, 0.000 step/μs/atom\n"
     ]
    },
    {
     "data": {
      "text/plain": [
       "{'position': array([[[0.4996, 0.2623, 0.9079],\n",
       "         [0.5577, 0.2642, 0.9342],\n",
       "         [0.5027, 0.308 , 0.8675],\n",
       "         ...,\n",
       "         [0.0123, 0.0653, 0.7637],\n",
       "         [0.0429, 0.0727, 0.7127],\n",
       "         [0.9743, 0.0151, 0.7547]],\n",
       " \n",
       "        [[0.4996, 0.2623, 0.9079],\n",
       "         [0.5577, 0.2642, 0.9342],\n",
       "         [0.5027, 0.308 , 0.8675],\n",
       "         ...,\n",
       "         [0.0123, 0.0653, 0.7637],\n",
       "         [0.0429, 0.0727, 0.7127],\n",
       "         [0.9742, 0.0151, 0.7546]]]),\n",
       " 'velocity': array([[[-0.0011, -0.0033, -0.004 ],\n",
       "         [ 0.0085,  0.0037,  0.025 ],\n",
       "         [-0.0073,  0.0292, -0.0065],\n",
       "         ...,\n",
       "         [-0.001 , -0.0011,  0.0001],\n",
       "         [ 0.0146,  0.0003, -0.0108],\n",
       "         [-0.0254,  0.0035, -0.0128]],\n",
       " \n",
       "        [[-0.001 , -0.0033, -0.0039],\n",
       "         [ 0.0074,  0.0034,  0.0245],\n",
       "         [-0.0076,  0.0296, -0.0078],\n",
       "         ...,\n",
       "         [-0.0011, -0.0012,  0.0003],\n",
       "         [ 0.0157,  0.0013, -0.013 ],\n",
       "         [-0.0235,  0.0053, -0.0126]]]),\n",
       " 'box': array([[15.6446, 15.6446, 15.6446],\n",
       "        [15.6446, 15.6446, 15.6446]])}"
      ]
     },
     "execution_count": 1,
     "metadata": {},
     "output_type": "execute_result"
    }
   ],
   "source": [
    "import jax\n",
    "import numpy as np\n",
    "from deepmd_jax import md\n",
    "jax.config.update('jax_enable_x64', True)\n",
    "path = '/root/water_128_val/set.002/'\n",
    "coord = np.load('/root/water_128_val/set.002/coord.npy')[0].reshape(384, 3)\n",
    "box = np.load('/root/water_128_val/set.002/box.npy')[0,0]\n",
    "type_idx = np.genfromtxt('/root/water_128_val/type.raw')\n",
    "sim = md.Simulation(model_path='/root/water.pkl',\n",
    "                           box=box,\n",
    "                           type_idx=type_idx,\n",
    "                           mass=[15.9994, 1.0078],\n",
    "                           routine='NPT_Nose_Hoover',\n",
    "                           dt=0.01,\n",
    "                           initial_position=coord,\n",
    "                           temperature=300,\n",
    "                           pressure=1,\n",
    "                           debug=True,\n",
    "                           use_neighbor_list_when_possible=False,\n",
    "                           barostat_kwargs={'tau': 1000}\n",
    ")\n",
    "sim.report_interval = 1\n",
    "force = np.load('/root/water_128_val/set.002/force.npy')[0].reshape(384, 3)\n",
    "energy = np.load('/root/water_128_val/set.002/energy.npy')[0]\n",
    "force_pred = sim.getForce()\n",
    "energy_pred = sim.getEnergy()\n",
    "init_velocity = sim._state.velocity\n",
    "print(\"Energy/Force error: \", np.abs(energy-energy_pred), ((force - force_pred)**2).mean()**0.5)\n",
    "# trajectory = sim.run(10)\n",
    "# trajectory = sim.run(1000)\n",
    "_ = sim.run(1)"
   ]
  },
  {
   "cell_type": "code",
   "execution_count": 23,
   "metadata": {},
   "outputs": [
    {
     "data": {
      "text/plain": [
       "Array([0.79999995, 0.79999995, 0.79999995], dtype=float32)"
      ]
     },
     "execution_count": 23,
     "metadata": {},
     "output_type": "execute_result"
    }
   ],
   "source": [
    "import jax_md\n",
    "import jax.numpy as jnp\n",
    "box = 3 * jnp.ones(3)\n",
    "displacement_fn = jax_md.space.periodic_general(box)[0]\n",
    "x = jnp.ones(3)\n",
    "displacement_fn(x*0.1, -x*0.1, box=jnp.ones(3)*4)"
   ]
  },
  {
   "cell_type": "code",
   "execution_count": 4,
   "metadata": {},
   "outputs": [
    {
     "data": {
      "text/plain": [
       "Array([[ 0.0001, -0.    ,  0.0001],\n",
       "       [-0.0011, -0.0003, -0.0005],\n",
       "       [-0.0002,  0.0004, -0.0013],\n",
       "       ...,\n",
       "       [-0.0001, -0.0002,  0.0001],\n",
       "       [ 0.0012,  0.0011, -0.0021],\n",
       "       [ 0.0019,  0.0019,  0.0001]], dtype=float64)"
      ]
     },
     "execution_count": 4,
     "metadata": {},
     "output_type": "execute_result"
    }
   ],
   "source": [
    "(sim._state.velocity - init_velocity)"
   ]
  },
  {
   "cell_type": "code",
   "execution_count": 12,
   "metadata": {},
   "outputs": [
    {
     "data": {
      "text/plain": [
       "Array([[-0.0008,  0.003 , -0.002 ],\n",
       "       [ 0.0083, -0.0034, -0.0047],\n",
       "       [ 0.0211,  0.0019, -0.0085],\n",
       "       ...,\n",
       "       [ 0.0013, -0.0001, -0.0004],\n",
       "       [-0.009 ,  0.0187, -0.0014],\n",
       "       [ 0.0084, -0.008 , -0.0063]], dtype=float32)"
      ]
     },
     "execution_count": 12,
     "metadata": {},
     "output_type": "execute_result"
    }
   ],
   "source": [
    "sim._state.velocity"
   ]
  },
  {
   "cell_type": "code",
   "execution_count": 4,
   "metadata": {},
   "outputs": [
    {
     "name": "stdout",
     "output_type": "stream",
     "text": [
      "# Running 10 steps...\n",
      "Step     Temperature  KE           PE           Pressure     Invariant    Time  \n",
      "0        274.130      13.607       -59878.629   -1352.789    -59865.020   4.651 \n",
      "1        1199.632     59.545       -59883.211   13801.769    -59823.660   11.482\n",
      "2        1184.543     58.796       -59881.645   25931.736    -59822.805   5.839 \n",
      "3        2059.625     102.231      -59886.016   24758.908    -59783.637   0.004 \n",
      "4        1729.469     85.844       -59883.703   13953.556    -59797.496   0.004 \n",
      "5        2208.787     109.635      -59886.133   21642.129    -59775.801   0.004 \n",
      "6        2334.092     115.855      -59885.883   34772.832    -59768.816   0.004 \n",
      "7        2667.092     132.383      -59887.648   35368.426    -59753.324   0.004 \n",
      "8        2351.886     116.738      -59886.184   22831.166    -59766.602   0.004 \n",
      "9        2079.926     103.239      -59885.617   18484.316    -59778.617   0.005 \n",
      "10       1907.387     94.675       -59884.820   26527.699    -59785.488   0.005 \n",
      "# Finished 10 steps in 0h 0m 22s.\n",
      "# Performance: 0.020 ns/day, 0.000 step/μs/atom\n"
     ]
    },
    {
     "data": {
      "text/plain": [
       "(Array(26527.7, dtype=float32), Array(805.9974, dtype=float32))"
      ]
     },
     "execution_count": 4,
     "metadata": {},
     "output_type": "execute_result"
    }
   ],
   "source": [
    "trajectory = sim.run(10)\n",
    "sim.getPressure(), sim._state.box_momentum"
   ]
  },
  {
   "cell_type": "code",
   "execution_count": 7,
   "metadata": {},
   "outputs": [
    {
     "data": {
      "text/plain": [
       "Array([15.6446, 15.6446, 15.6446], dtype=float32)"
      ]
     },
     "execution_count": 7,
     "metadata": {},
     "output_type": "execute_result"
    }
   ],
   "source": [
    "sim._state.box"
   ]
  },
  {
   "cell_type": "code",
   "execution_count": 15,
   "metadata": {},
   "outputs": [
    {
     "data": {
      "text/plain": [
       "Array([[0.8153, 0.1035, 0.2032],\n",
       "       [0.7251, 0.1329, 0.6143],\n",
       "       [0.865 , 0.8189, 0.5708],\n",
       "       ...,\n",
       "       [0.1928, 0.0213, 0.9472],\n",
       "       [0.6706, 0.1383, 0.1499],\n",
       "       [0.2421, 0.2359, 0.8061]], dtype=float32)"
      ]
     },
     "execution_count": 15,
     "metadata": {},
     "output_type": "execute_result"
    }
   ],
   "source": [
    "sim._state.position"
   ]
  },
  {
   "cell_type": "code",
   "execution_count": 9,
   "metadata": {},
   "outputs": [
    {
     "data": {
      "text/plain": [
       "Array([[-0.0008,  0.003 , -0.002 ],\n",
       "       [ 0.0083, -0.0034, -0.0047],\n",
       "       [ 0.0211,  0.0019, -0.0085],\n",
       "       ...,\n",
       "       [ 0.0013, -0.0001, -0.0004],\n",
       "       [-0.009 ,  0.0187, -0.0014],\n",
       "       [ 0.0084, -0.008 , -0.0063]], dtype=float32)"
      ]
     },
     "execution_count": 9,
     "metadata": {},
     "output_type": "execute_result"
    }
   ],
   "source": [
    "sim._state.velocity"
   ]
  },
  {
   "cell_type": "code",
   "execution_count": 6,
   "metadata": {},
   "outputs": [
    {
     "data": {
      "text/plain": [
       "NoseHooverChain(position=Array([0., 0., 0.], dtype=float32), momentum=Array([0., 0., 0.], dtype=float32), mass=Array([74453.76,    64.63,    64.63], dtype=float32), tau=50.0, kinetic_energy=Array(13.6067, dtype=float32), degrees_of_freedom=1152)"
      ]
     },
     "execution_count": 6,
     "metadata": {},
     "output_type": "execute_result"
    }
   ],
   "source": [
    "sim._state"
   ]
  },
  {
   "cell_type": "code",
   "execution_count": 9,
   "metadata": {},
   "outputs": [
    {
     "data": {
      "text/plain": [
       "NoseHooverChain(position=Array([-0., -0., -0.], dtype=float32), momentum=Array([-0.0129, -0.0129, -0.0129], dtype=float32), mass=Array([6462.9995, 6462.9995, 6462.9995], dtype=float32), tau=Array(500., dtype=float32, weak_type=True), kinetic_energy=Array(0., dtype=float32), degrees_of_freedom=1)"
      ]
     },
     "execution_count": 9,
     "metadata": {},
     "output_type": "execute_result"
    }
   ],
   "source": [
    "sim._state.barostat"
   ]
  },
  {
   "cell_type": "code",
   "execution_count": 5,
   "metadata": {},
   "outputs": [
    {
     "data": {
      "text/plain": [
       "Array(-1352.9045, dtype=float32)"
      ]
     },
     "execution_count": 5,
     "metadata": {},
     "output_type": "execute_result"
    }
   ],
   "source": [
    "sim.getPressure()"
   ]
  }
 ],
 "metadata": {
  "kernelspec": {
   "display_name": "base",
   "language": "python",
   "name": "python3"
  },
  "language_info": {
   "codemirror_mode": {
    "name": "ipython",
    "version": 3
   },
   "file_extension": ".py",
   "mimetype": "text/x-python",
   "name": "python",
   "nbconvert_exporter": "python",
   "pygments_lexer": "ipython3",
   "version": "3.11.7"
  }
 },
 "nbformat": 4,
 "nbformat_minor": 2
}
