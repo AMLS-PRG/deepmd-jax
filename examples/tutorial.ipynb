{
 "cells": [
  {
   "cell_type": "code",
   "execution_count": 1,
   "metadata": {},
   "outputs": [
    {
     "name": "stderr",
     "output_type": "stream",
     "text": [
      "2024-10-25 22:03:31.291145: W external/xla/xla/service/gpu/nvptx_compiler.cc:930] The NVIDIA driver's CUDA version is 12.2 which is older than the PTX compiler version 12.6.77. Because the driver is older than the PTX compiler version, XLA is disabling parallel compilation, which may slow down compilation. You should update your NVIDIA driver or use the NVIDIA-provided CUDA forward compatibility packages.\n"
     ]
    },
    {
     "name": "stdout",
     "output_type": "stream",
     "text": [
      "# DeepMD-JAX: Starting on 1 device(s): [CudaDevice(id=0)]\n",
      "# Model loaded from '/root/water.pkl'.\n",
      "# Lattice vectors for neighbor images: Max 1 out of 1 condidates.\n",
      "Energy/Force error:  0.09375 0.022638096\n",
      "    Step  Temperature           KE           PE    Invariant   Time\n",
      "       0  274.130       13.607   -59878.625   -59865.020        0.913\n",
      "     100  319.608       15.864   -59880.922   -59865.059        4.243\n",
      "     200  305.997       15.188   -59880.230   -59865.043        0.065\n",
      "# Finished 200 steps in 0h 0m 5s.\n",
      "# Performance: 1.654 ns/day, 0.015 step/μs/atom\n",
      "     200  305.997       15.188   -59880.230   -59865.043        0.000\n",
      "     300  315.839       15.677   -59880.719   -59865.043        0.066\n",
      "     400  301.606       14.970   -59880.016   -59865.047        0.060\n",
      "     500  301.037       14.942   -59879.980   -59865.039        0.061\n",
      "     600  318.762       15.822   -59880.859   -59865.039        0.060\n",
      "     700  301.584       14.969   -59880.008   -59865.039        0.061\n",
      "     800  316.746       15.722   -59880.766   -59865.043        0.060\n",
      "     900  303.816       15.080   -59880.121   -59865.039        0.060\n",
      "    1000  331.746       16.466   -59881.508   -59865.043        0.061\n",
      "    1100  307.845       15.280   -59880.324   -59865.043        0.060\n",
      "    1200  315.553       15.663   -59880.695   -59865.031        0.060\n",
      "# Finished 1000 steps in 0h 0m 0s.\n",
      "# Performance: 70.798 ns/day, 0.629 step/μs/atom\n"
     ]
    }
   ],
   "source": [
    "import jax\n",
    "import numpy as np\n",
    "from deepmd_jax import md\n",
    "# jax.config.update('jax_enable_x64', True)\n",
    "path = '/root/water_128_val/set.002/'\n",
    "coord = np.load('/root/water_128_val/set.002/coord.npy')[0].reshape(384, 3)\n",
    "box = np.load('/root/water_128_val/set.002/box.npy')[0,0]\n",
    "type_idx = np.genfromtxt('/root/water_128_val/type.raw')\n",
    "sim = md.Simulation(model_path='/root/water.pkl',\n",
    "                           box=box,\n",
    "                           type_idx=type_idx,\n",
    "                           mass=[15.9994, 1.0078],\n",
    "                           routine='NVE',\n",
    "                           dt=0.5,\n",
    "                           initial_position=coord,\n",
    "                           temperature=300,\n",
    "                           debug=True)\n",
    "force = np.load('/root/water_128_val/set.002/force.npy')[0].reshape(384, 3)\n",
    "energy = np.load('/root/water_128_val/set.002/energy.npy')[0]\n",
    "force_pred = sim.getForce()\n",
    "energy_pred = sim.getEnergy()\n",
    "print(\"Energy/Force error: \", np.abs(energy-energy_pred), ((force - force_pred)**2).mean()**0.5)\n",
    "# equilibrate\n",
    "trajectory = sim.run(200)\n",
    "# production\n",
    "trajectory = sim.run(1000)\n"
   ]
  },
  {
   "cell_type": "code",
   "execution_count": 10,
   "metadata": {},
   "outputs": [
    {
     "name": "stdout",
     "output_type": "stream",
     "text": [
      "    1200 315.553     15.663     -59880.695   -59865.031     44.216   \n",
      "    1300 306.335     15.205     -59880.238   -59865.031     0.068    \n",
      "    1400 320.617     15.914     -59880.961   -59865.047     0.066    \n",
      "    1500 317.963     15.782     -59880.824   -59865.043     0.068    \n",
      "    1600 281.240     13.960     -59878.992   -59865.031     0.062    \n",
      "    1700 319.652     15.866     -59880.898   -59865.031     0.060    \n",
      "    1800 301.548     14.968     -59880.016   -59865.047     0.061    \n",
      "    1900 322.599     16.012     -59881.070   -59865.059     0.061    \n",
      "    2000 320.147     15.891     -59880.922   -59865.031     0.063    \n",
      "    2100 313.906     15.581     -59880.625   -59865.043     0.060    \n",
      "    2200 309.827     15.379     -59880.410   -59865.031     0.061    \n",
      "# Finished 1000 steps in 0h 0m 0s.\n",
      "# Performance: 67.349 ns/day, 0.599 step/μs/atom\n"
     ]
    }
   ],
   "source": [
    "trajectory"
   ]
  }
 ],
 "metadata": {
  "kernelspec": {
   "display_name": "base",
   "language": "python",
   "name": "python3"
  },
  "language_info": {
   "codemirror_mode": {
    "name": "ipython",
    "version": 3
   },
   "file_extension": ".py",
   "mimetype": "text/x-python",
   "name": "python",
   "nbconvert_exporter": "python",
   "pygments_lexer": "ipython3",
   "version": "3.11.7"
  }
 },
 "nbformat": 4,
 "nbformat_minor": 2
}
