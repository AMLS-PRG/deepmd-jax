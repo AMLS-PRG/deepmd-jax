{
 "cells": [
  {
   "cell_type": "code",
   "execution_count": 3,
   "metadata": {},
   "outputs": [
    {
     "name": "stdout",
     "output_type": "stream",
     "text": [
      "env: XLA_PYTHON_CLIENT_PREALLOCATE=false\n",
      "# Starting program on 1 device(s): [cuda(id=0)]\n",
      "# Model loaded from 'trained_models/new_dp_water_512.pkl'.\n",
      "# Lattice vectors for neighbor images: Max 1 out of 1 condidates.\n"
     ]
    },
    {
     "name": "stdout",
     "output_type": "stream",
     "text": [
      "# Neighborlist allocated with size [64, 126]\n",
      "# Model check: NAtoms =  10368 Energy =  -1616588.1 Force error =  0.03781206\n"
     ]
    }
   ],
   "source": [
    "import numpy as np\n",
    "# config parameters\n",
    "deepmd_jax_path  = '../'               # Path to deepmd_jax package; change if you run this script at a different directory\n",
    "precision        = 'default'           # 'default'(fp32), 'low'(mixed 32-16), 'high'(fp64)\n",
    "# model_path       = 'trained_models/dpsr_chunyidplr.pkl'  # path to the trained model for simulation\n",
    "model_path       = 'trained_models/new_dp_water_512.pkl'  # path to the trained model for simulation\n",
    "save_path        = './'                # path to save trajectory\n",
    "save_prefix      = 'water'             # prefix for saved trajectory\n",
    "use_model_devi   = False               # compute model deviation of different models\n",
    "model_devi_paths = ['trained_models/dp_water_2.pkl', 'trained_models/dp_water_3.pkl']\n",
    "use_dplr         = False                # Use DPLR\n",
    "wannier_model    = 'trained_models/dw_chunyidplr_1.pkl'  # path to Wannier model in DPLR\n",
    "memory_cap       = None                # Reduce memory use, sacrificing speed; only for compressed models; if not None, set it to e.g. 1e9, at large as possible so far as no OOM occurs\n",
    "# simulation parameters; all units in (Angstrom, eV, fs)\n",
    "dt               = 0.48                # time step (fs)\n",
    "temp             = 350 * 8.61733e-5    # temperature (Kelvin * unit_convert)\n",
    "mass             = np.array([15.9994, 1.00784]) * 1.036427e2 # mass by type (AMU * unit_convert)\n",
    "fix_type         = 'NVT'               # 'NVE' or 'NVT' (uses Nose-Hoover thermostat)\n",
    "chain_length     = 1                   # NH chain length in NVT\n",
    "tau              = 2000 * dt           # NH relaxation time in NVT\n",
    "total_steps      = 10000             # Total number of simulation steps\n",
    "print_every      = 100                 # Frequency of printing and calculating model deviation\n",
    "save_every       = 1                   # Frequency of recording trajectory\n",
    "rcut_buffer      = 1.                  # buffer radius (Angstrom) of neighborlist (can be a list for different types)\n",
    "# DPLR parameters\n",
    "beta             = 0.4                 # inverse spread of the point charge distribution\n",
    "resolution       = 0.2                 # particle mesh grid length = resolution / beta\n",
    "q_atoms          = [6, 1]              # charge of atomic cores, here Oxygen and Hydrogen\n",
    "q_wc             = [-8]                # charge of wannier center/centroid\n",
    "\n",
    "# Prepare initial config in numpy array by whatever way you like\n",
    "# Required: coord, box, type_list\n",
    "#    - coord, (N,3): initial config; N stands for number of atoms\n",
    "#    - box, (3,3): periodic box vectors; make sure it is a diagonal matrix if box is orthorhombic\n",
    "#    - type_list, (N,): atom type index; start counting from 0; use the same index map as model training\n",
    "# Optional: velocity, force\n",
    "#    - velocity, (N,3): initial velocity; if not provided, will be initialized by temperature\n",
    "#    - force, (N,3): ground truth force of initial config; if provided, will be used in initial model check\n",
    "# Here as an example we use a configuration from the training dataset\n",
    "path = '/pscratch/sd/r/ruiqig/polaron_cp2k/aimd/aimd-water/water_128/'\n",
    "# path = 'data/chunyi_dplr/data/energy_force_data/data/data21/'\n",
    "# coord = np.load(path + 'set.000/coord.npy')[0].reshape(-1, 3)\n",
    "# force = np.load(path + 'set.000/force.npy')[0].reshape(-1, 3)\n",
    "# box = np.load(path + 'set.000/box.npy')[0].reshape(3, 3)\n",
    "coord = np.load(path + 'set.001/coord.npy')[0].reshape(-1, 3)\n",
    "force = np.load(path + 'set.001/force.npy')[0].reshape(-1, 3)\n",
    "box = np.load(path + 'set.001/box.npy')[0].reshape(3, 3)\n",
    "type_list = np.genfromtxt(path + 'type.raw')\n",
    "# Example 3: Repeating a prepared config to a larger system\n",
    "copy = [3,3,3] # number of copies in each direction x,y,z\n",
    "for k in range(3):\n",
    "    coord = np.concatenate([(coord + i*box[k])[:,None] for i in range(copy[k])], axis=1).reshape(-1,3)\n",
    "box = np.diag(copy) @ box\n",
    "type_list = np.repeat(type_list, np.prod(copy), axis=0)\n",
    "force = np.repeat(force, np.prod(copy), axis=0)\n",
    "# end preparing initial config\n",
    "\n",
    "# from here on, no need to change unless you know what you're doing\n",
    "%env XLA_PYTHON_CLIENT_PREALLOCATE=false\n",
    "import jax.numpy as jnp\n",
    "from jax import jit, random, grad\n",
    "import flax.linen as nn\n",
    "import jax, sys, os, warnings\n",
    "from time import time\n",
    "from jax_md import space, quantity, simulate\n",
    "sys.path.append(os.path.abspath(deepmd_jax_path))\n",
    "from deepmd_jax import data, utils, simulation_utils\n",
    "from deepmd_jax.dpmodel import DPModel\n",
    "print('# Starting program on %d device(s):' % jax.device_count(), jax.devices())\n",
    "warnings.simplefilter(action='ignore', category=FutureWarning)\n",
    "warnings.simplefilter(action='ignore', category=UserWarning)\n",
    "np.set_printoptions(precision=4, suppress=True)\n",
    "if precision == 'default':\n",
    "    jax.config.update('jax_default_matmul_precision', 'float32')\n",
    "if precision == 'high':\n",
    "    jax.config.update('jax_enable_x64', True)\n",
    "if low_memory_mode:\n",
    "    utils.LOW_MEM_MODE = True\n",
    "# prepare configuation and model\n",
    "type_list = type_list.astype(int)\n",
    "def sort_type(x):             # atoms are sorted by type in simulation\n",
    "    return x[type_list.argsort(kind='stable')]\n",
    "@jit\n",
    "def vmap_inv_sort_type(x):    # sort back to original order\n",
    "    return x[:,type_list.argsort(kind='stable').argsort(kind='stable')]\n",
    "type_count = np.bincount(type_list)\n",
    "coord, force = sort_type(coord), None if not 'force' in vars() else sort_type(force)\n",
    "mass = jnp.repeat(mass, type_count)              # expand mass vector\n",
    "model, variables = utils.load_model(model_path)  # load model\n",
    "model_list, variables_list = [model], [variables]\n",
    "if use_model_devi:\n",
    "    for path in model_devi_paths:\n",
    "        m, v = utils.load_model(path)\n",
    "        model_list.append(m), variables_list.append(v)\n",
    "if use_dplr:\n",
    "    wmodel, wvariables = utils.load_model(wannier_model)\n",
    "rcut_max = max([m.params['rcut'] for m in model_list] + ([wmodel.params['rcut']] if use_dplr else []))\n",
    "lattice_args = data.compute_lattice_candidate(box[None], rcut_max)\n",
    "static_args = nn.FrozenDict({'type_count':type_count, 'lattice':lattice_args})\n",
    "coord = jax.device_put(coord*jnp.ones(1), jax.sharding.PositionalSharding(jax.devices()).replicate())\n",
    "displace, shift = space.periodic(jnp.diag(box) if lattice_args['ortho'] else box)\n",
    "# prepare neighborlist\n",
    "if not lattice_args['ortho']:\n",
    "    print('# Neighborlist disabled: Non-orthorhombic box.')\n",
    "elif rcut_max + np.array(rcut_buffer).max() > np.diag(box).min() / 2:\n",
    "    print('# Neighborlist disabled: rcut + rcutbuffer larger than half of the box length.')\n",
    "else:\n",
    "    use_neighborlist = True\n",
    "    buffer_size = 1.2\n",
    "    update_every = max([i for i in [1,2,3,4,5,10] if print_every % i == 0])\n",
    "    rcut_buffer = np.full(len(type_count), rcut_buffer) if np.array(rcut_buffer).size == 1 else np.array(rcut_buffer)\n",
    "    rbuffer_array = jnp.repeat(rcut_buffer, type_count)\n",
    "    neighborlist = simulation_utils.NeighborListLoader(np.diag(box), type_count, rcut_max+rcut_buffer, buffer_size)\n",
    "    nbrs_list = neighborlist.allocate(coord % jnp.diag(box))\n",
    "if not use_neighborlist and jax.device_count() > 1:\n",
    "    print('# Warning: Multiple devices detected but program only runs on 1 device when neighborlist is disabled.')\n",
    "# prepare energy function\n",
    "def get_energy_fn(model, variables):\n",
    "    if use_dplr:\n",
    "        p3mlr_fn = utils.get_p3mlr_fn(np.diag(box), beta, resolution=resolution)\n",
    "        qatoms = jnp.array(np.repeat(q_atoms, type_count))\n",
    "        qwc = jnp.array(np.repeat(q_wc, [type_count[i] for i in wmodel.params['nsel']]))\n",
    "    def energy_fn(coord, nbrs_list):\n",
    "        E = model.apply(variables, coord, box, static_args, nbrs_list)[0]\n",
    "        if not use_dplr:\n",
    "            return E\n",
    "        else:\n",
    "            wc = wmodel.wc_predict(wvariables, coord, box, static_args, nbrs_list)\n",
    "            return E + p3mlr_fn(jnp.concatenate([coord, wc]), jnp.concatenate([qatoms, qwc]))\n",
    "    return jit(energy_fn)\n",
    "energy_fn = get_energy_fn(model, variables) # for simulation\n",
    "energy_fns = [get_energy_fn(model, variables) for model, variables in zip(model_list, variables_list)] # for model deviation\n",
    "print('# Model check: NAtoms = ', len(coord), 'Energy = ', energy_fn(coord,nbrs_list), + '' if not 'force' in vars() else\n",
    "        'Force error = ', ((force + jit(grad(energy_fn))(coord, nbrs_list))**2).mean()**0.5)"
   ]
  },
  {
   "cell_type": "code",
   "execution_count": 4,
   "metadata": {},
   "outputs": [
    {
     "name": "stdout",
     "output_type": "stream",
     "text": [
      "# Step\tTemp\tKE\tPE\tInvariant\tModel Dev\ttime\n",
      "####################################################################\n",
      "0\t348.47\t467.00\t-1616588.12\t-1616121.12\t0.000\t1.08\n",
      "100\t342.85\t459.48\t-1616580.62\t-1616121.12\t0.000\t4.91\n",
      "200\t346.74\t464.69\t-1616585.75\t-1616121.00\t0.000\t0.60\n",
      "300\t353.09\t473.20\t-1616594.38\t-1616121.25\t0.000\t0.61\n",
      "400\t355.03\t475.80\t-1616596.88\t-1616121.25\t0.000\t0.61\n",
      "500\t352.69\t472.66\t-1616593.75\t-1616121.25\t0.000\t0.61\n",
      "600\t350.80\t470.13\t-1616591.38\t-1616121.25\t0.000\t0.61\n"
     ]
    },
    {
     "ename": "KeyboardInterrupt",
     "evalue": "",
     "output_type": "error",
     "traceback": [
      "\u001b[0;31m---------------------------------------------------------------------------\u001b[0m",
      "\u001b[0;31mKeyboardInterrupt\u001b[0m                         Traceback (most recent call last)",
      "\u001b[1;32m/global/homes/r/ruiqig/deepmd-jax/examples/simulate.ipynb Cell 2\u001b[0m line \u001b[0;36m6\n\u001b[1;32m     <a href='vscode-notebook-cell://ssh-remote%2Bperl/global/homes/r/ruiqig/deepmd-jax/examples/simulate.ipynb#W1sdnNjb2RlLXJlbW90ZQ%3D%3D?line=59'>60</a>\u001b[0m \u001b[39melse\u001b[39;00m:\n\u001b[1;32m     <a href='vscode-notebook-cell://ssh-remote%2Bperl/global/homes/r/ruiqig/deepmd-jax/examples/simulate.ipynb#W1sdnNjb2RlLXJlbW90ZQ%3D%3D?line=60'>61</a>\u001b[0m     state, nbrs_list \u001b[39m=\u001b[39m jax\u001b[39m.\u001b[39mdevice_put([state, nbrs_list], states_sharding)\n\u001b[0;32m---> <a href='vscode-notebook-cell://ssh-remote%2Bperl/global/homes/r/ruiqig/deepmd-jax/examples/simulate.ipynb#W1sdnNjb2RlLXJlbW90ZQ%3D%3D?line=61'>62</a>\u001b[0m     (state_new, nbrs_list_new), (pos, vel, rcut_overflow) \u001b[39m=\u001b[39m step_fn(state, nbrs_list)\n\u001b[1;32m     <a href='vscode-notebook-cell://ssh-remote%2Bperl/global/homes/r/ruiqig/deepmd-jax/examples/simulate.ipynb#W1sdnNjb2RlLXJlbW90ZQ%3D%3D?line=62'>63</a>\u001b[0m     \u001b[39mif\u001b[39;00m \u001b[39many\u001b[39m([nbrs\u001b[39m.\u001b[39mdid_buffer_overflow \u001b[39mfor\u001b[39;00m nbrs \u001b[39min\u001b[39;00m nbrs_list_new]):\n\u001b[1;32m     <a href='vscode-notebook-cell://ssh-remote%2Bperl/global/homes/r/ruiqig/deepmd-jax/examples/simulate.ipynb#W1sdnNjb2RlLXJlbW90ZQ%3D%3D?line=63'>64</a>\u001b[0m         \u001b[39mif\u001b[39;00m NBRS_FLAG:\n",
      "File \u001b[0;32m~/.conda/envs/deepmd-jax/lib/python3.10/site-packages/jax_md/dataclasses.py:56\u001b[0m, in \u001b[0;36mdataclass.<locals>.clz_from_iterable\u001b[0;34m(meta, data)\u001b[0m\n\u001b[1;32m     53\u001b[0m   data \u001b[39m=\u001b[39m \u001b[39mtuple\u001b[39m(\u001b[39mgetattr\u001b[39m(x, name) \u001b[39mfor\u001b[39;00m name \u001b[39min\u001b[39;00m data_fields)\n\u001b[1;32m     54\u001b[0m   \u001b[39mreturn\u001b[39;00m data, meta\n\u001b[0;32m---> 56\u001b[0m \u001b[39mdef\u001b[39;00m \u001b[39mclz_from_iterable\u001b[39m(meta, data):\n\u001b[1;32m     57\u001b[0m   meta_args \u001b[39m=\u001b[39m \u001b[39mtuple\u001b[39m(\u001b[39mzip\u001b[39m(meta_fields, meta))\n\u001b[1;32m     58\u001b[0m   data_args \u001b[39m=\u001b[39m \u001b[39mtuple\u001b[39m(\u001b[39mzip\u001b[39m(data_fields, data))\n",
      "\u001b[0;31mKeyboardInterrupt\u001b[0m: "
     ]
    }
   ],
   "source": [
    "# Initialize simulation state\n",
    "TIC = time()\n",
    "if fix_type == 'NVT':\n",
    "    init_fn, apply_fn = simulate.nvt_nose_hoover(energy_fn, shift, dt, temp, chain_length=chain_length, tau=tau) \n",
    "    state = init_fn(random.PRNGKey(0), coord, mass=mass, nbrs_list=nbrs_list)\n",
    "elif fix_type == 'NVE':                    \n",
    "    init_fn, apply_fn = simulate.nve(energy_fn, shift, dt)                               \n",
    "    state = init_fn(random.PRNGKey(0), coord, mass=mass, kT=temp, nbrs_list=nbrs_list)\n",
    "if 'velocity' in vars():\n",
    "    state = state.set(momentum = state.mass * velocity)\n",
    "states_sharding = jax.tree_util.tree_map(lambda x: x.sharding, [state, nbrs_list])\n",
    "# Define step function\n",
    "def inner_step_fn(states, i): # inner_step_fn = 1 md step\n",
    "    state, nbrs_list = states\n",
    "    state = apply_fn(state, nbrs_list=nbrs_list)\n",
    "    return (state, nbrs_list), (state.position, state.velocity)\n",
    "def get_step_fn():  # 1 step_fn = print_every steps        \n",
    "    def multi_inner_step_fn(states, i): # multi_inner_step_fn = update_every steps + 1 step update neighborlist\n",
    "        state, nbrs_list = states\n",
    "        nbrs_list = neighborlist.update(state.position % jnp.diag(box), nbrs_list)\n",
    "        (state_new, _), (pos, vel) = jax.lax.scan(inner_step_fn, (state,nbrs_list), None, update_every)\n",
    "        rcut_overflow = (jnp.linalg.norm((state.position-pos-jnp.diag(box)/2)%jnp.diag(box)-jnp.diag(box)/2, axis=-1) > rbuffer_array/2).any()\n",
    "        return (state_new, nbrs_list), (pos, vel, rcut_overflow)\n",
    "    def step_fn(state, nbrs_list=None): \n",
    "        if not use_neighborlist:\n",
    "            return jax.lax.scan(inner_step_fn, (state,None), None, print_every, unroll=1)\n",
    "        else:\n",
    "            return jax.lax.scan(multi_inner_step_fn, (state, nbrs_list), None, print_every//update_every, unroll=1)\n",
    "    return jit(step_fn)\n",
    "step_fn = get_step_fn()\n",
    "# jit functions for calculating quantities\n",
    "@jit\n",
    "def get_quantity(state, nbrs_list):\n",
    "    PE = energy_fn(state.position, nbrs_list=nbrs_list)\n",
    "    T = quantity.temperature(velocity=state.velocity, mass=state.mass) / 1.380649e-23 * 1.602176634e-19\n",
    "    KE = quantity.kinetic_energy(velocity=state.velocity, mass=state.mass)\n",
    "    if fix_type == 'NVT':\n",
    "        inv = simulate.nvt_nose_hoover_invariant(energy_fn, state, temp, nbrs_list=nbrs_list)\n",
    "    elif fix_type == 'NVE':\n",
    "        inv = PE + KE\n",
    "    return T, KE, PE, inv\n",
    "@jit\n",
    "def compute_model_devi(coord, nbrs_list):\n",
    "    all_forces = jnp.array([-grad(energy_fn)(coord, nbrs_list) for energy_fn in energy_fns])\n",
    "    return jnp.std(all_forces, axis=0).max()\n",
    "\n",
    "# Run simulation\n",
    "print('# Step\\tTemp\\tKE\\tPE\\tInvariant\\tModel Dev\\ttime')\n",
    "print('####################################################################')\n",
    "pos_traj, vel_traj, model_devi_traj = [], [], []\n",
    "i, tic, NBRS_FLAG, save_idx = 0, time(), False, 0\n",
    "while i < total_steps:\n",
    "    T, KE, PE, inv = get_quantity(state, nbrs_list)\n",
    "    model_devi = compute_model_devi(state.position, nbrs_list) if use_model_devi else 0.\n",
    "    print('{}\\t{:.2f}\\t{:.2f}\\t{:.2f}\\t{:.2f}\\t{:.3f}\\t{:.2f}'.format(\n",
    "            i, T, KE, PE, inv, model_devi, (time() - tic)))\n",
    "    tic = time()\n",
    "    if not use_neighborlist:\n",
    "        (state, _), (pos, vel) = step_fn(state)\n",
    "    else:\n",
    "        state, nbrs_list = jax.device_put([state, nbrs_list], states_sharding)\n",
    "        (state_new, nbrs_list_new), (pos, vel, rcut_overflow) = step_fn(state, nbrs_list)\n",
    "        if any([nbrs.did_buffer_overflow for nbrs in nbrs_list_new]):\n",
    "            if NBRS_FLAG:\n",
    "                NBRS_FLAG, buffer_size = False, buffer_size + 0.05\n",
    "                print('# Neighbor list overflow for a second time; Increasing buffer_size to', buffer_size)\n",
    "                neighborlist = simulation_utils.NeighborListLoader(jnp.diag(box),type_count,rcut_max+rcut_buffer,buffer_size)\n",
    "                nbrs_list = neighborlist.allocate(coord % jnp.diag(box))\n",
    "            else:\n",
    "                NBRS_FLAG = True\n",
    "            nbrs_list = neighborlist.allocate(state.position % jnp.diag(box))\n",
    "            states_sharding = jax.tree_util.tree_map(lambda x: x.sharding, [state, nbrs_list])\n",
    "            continue\n",
    "        NBRS_FLAG = False\n",
    "        if rcut_overflow.any():\n",
    "            if update_every == 1:\n",
    "                print('# Error: rcut_buffer overflow for a single step; Check for bugs or increase rcut_buffer')\n",
    "                break\n",
    "            else:\n",
    "                update_every = (update_every + 1) // 2\n",
    "                step_fn = get_step_fn()\n",
    "                print('# rcut_buffer overflow; Decreasing update_every to', update_every)\n",
    "                continue\n",
    "        state, nbrs_list = state_new, nbrs_list_new\n",
    "        pos, vel = pos.reshape(-1,pos.shape[2],3), vel.reshape(-1,vel.shape[2],3)\n",
    "    i += print_every\n",
    "    pos_traj.append(np.array(vmap_inv_sort_type(pos[save_every-1::save_every]), dtype=np.float32))\n",
    "    vel_traj.append(np.array(vmap_inv_sort_type(vel[save_every-1::save_every]), dtype=np.float32))\n",
    "    model_devi_traj.append(model_devi)\n",
    "    if i >= total_steps or len(pos_traj)*pos_traj[0].nbytes > 8e9: # max file size ~ 8GB (adjust if needed)\n",
    "        np.save(save_path + '/' + save_prefix + '_pos_%d.npy' % save_idx, np.concatenate(pos_traj))\n",
    "        np.save(save_path + '/' + save_prefix + '_vel_%d.npy' % save_idx, np.concatenate(vel_traj))\n",
    "        pos_traj, vel_traj, model_devi_traj = [], [], []\n",
    "        save_idx += 1\n",
    "print('# Trajectory saved to \\'%s_*\\'.' % os.path.realpath(save_path+'/'+save_prefix))\n",
    "Time = time() - TIC\n",
    "print('# Finished simulation in %dh %dm %ds.' % (Time//3600,(Time%3600)//60,Time%60))"
   ]
  },
  {
   "cell_type": "code",
   "execution_count": null,
   "metadata": {},
   "outputs": [],
   "source": [
    "np.save('traj_nvt_350new.npy', np.array(traj, dtype=np.float32))"
   ]
  },
  {
   "cell_type": "code",
   "execution_count": null,
   "metadata": {},
   "outputs": [
    {
     "name": "stdout",
     "output_type": "stream",
     "text": [
      "env: XLA_PYTHON_CLIENT_PREALLOCATE=false\n"
     ]
    }
   ],
   "source": [
    "%env XLA_PYTHON_CLIENT_PREALLOCATE=false\n",
    "import jax.numpy as jnp\n",
    "import numpy as np\n",
    "import matplotlib.pyplot as plt\n",
    "traj1 = jnp.load('traj_nve.npy')[10000:]\n",
    "traj2 = jnp.load('traj_nvt_300new.npy')[10000:]\n",
    "traj3 = jnp.load('traj_nvt_350new.npy')[10000:]\n",
    "traj4 = jnp.load('/pscratch/sd/r/ruiqig/old/h2o_dp_example/rerun/traj.npy')[10000:]\n",
    "traj1 = traj1[:len(traj4)]\n",
    "traj2 = traj2[:len(traj4)]\n",
    "# traj3 = traj3[:len(traj4)]"
   ]
  },
  {
   "cell_type": "code",
   "execution_count": null,
   "metadata": {},
   "outputs": [
    {
     "name": "stdout",
     "output_type": "stream",
     "text": [
      "0.2021033\n",
      "0.21448293\n",
      "0.21082759\n"
     ]
    },
    {
     "data": {
      "image/png": "[encoded data removed]",
      "text/plain": [
       "<Figure size 640x480 with 1 Axes>"
      ]
     },
     "metadata": {},
     "output_type": "display_data"
    }
   ],
   "source": [
    "msd = []\n",
    "traj = traj3\n",
    "for i in range(0, 3*len(traj)//4, 100):\n",
    "    msd.append(((traj[i+1000:len(traj)//4+i, :] - traj[1000:len(traj)//4, :])**2).mean())\n",
    "plt.plot(msd)\n",
    "j = 40000\n",
    "print((((traj[j::10] - traj[:-j:10])**2).sum(axis=-1).mean(axis=0).mean()\n",
    "       -((traj[j+2100::10] - traj[:-j-2100:10])**2).sum(axis=-1).mean(axis=0).mean()) / -6)\n",
    "print((msd[650] - msd[550]) / 4.8 / 2)\n",
    "print((msd[600] - msd[500]) / 4.8 / 2)"
   ]
  },
  {
   "cell_type": "code",
   "execution_count": null,
   "metadata": {},
   "outputs": [],
   "source": []
  },
  {
   "cell_type": "code",
   "execution_count": null,
   "metadata": {},
   "outputs": [],
   "source": [
    "import numpy as np\n",
    "import ase.io\n",
    "water_traj = ase.io.read('/pscratch/sd/r/ruiqig/old/h2o_dp_example/rerun/water2.dump', ':')"
   ]
  },
  {
   "cell_type": "code",
   "execution_count": null,
   "metadata": {},
   "outputs": [],
   "source": [
    "water_traj = np.array([i.positions for i in water_traj])"
   ]
  },
  {
   "cell_type": "code",
   "execution_count": null,
   "metadata": {},
   "outputs": [],
   "source": [
    "traj = np.array([i.positions for i in water_traj])\n",
    "cell = np.array([np.diag(i.cell) for i in water_traj])\n",
    "for i in range(1, len(traj)):\n",
    "    traj[i] = traj[i-1] + (traj[i] - traj[i-1] - cell[i]/2) % cell[i] - cell[i]/2"
   ]
  },
  {
   "cell_type": "code",
   "execution_count": null,
   "metadata": {},
   "outputs": [
    {
     "name": "stdout",
     "output_type": "stream",
     "text": [
      "-0.2126019132649913\n"
     ]
    },
    {
     "ename": "IndexError",
     "evalue": "list index out of range",
     "output_type": "error",
     "traceback": [
      "\u001b[0;31m---------------------------------------------------------------------------\u001b[0m",
      "\u001b[0;31mIndexError\u001b[0m                                Traceback (most recent call last)",
      "\u001b[1;32m/global/homes/r/ruiqig/deepmd-jax/examples/simulation_nvt.ipynb Cell 9\u001b[0m line \u001b[0;36m1\n\u001b[1;32m      <a href='vscode-notebook-cell://ssh-remote%2Bperl/global/homes/r/ruiqig/deepmd-jax/examples/simulation_nvt.ipynb#X41sdnNjb2RlLXJlbW90ZQ%3D%3D?line=6'>7</a>\u001b[0m j \u001b[39m=\u001b[39m \u001b[39m40000\u001b[39m\n\u001b[1;32m      <a href='vscode-notebook-cell://ssh-remote%2Bperl/global/homes/r/ruiqig/deepmd-jax/examples/simulation_nvt.ipynb#X41sdnNjb2RlLXJlbW90ZQ%3D%3D?line=7'>8</a>\u001b[0m \u001b[39mprint\u001b[39m((((traj[i\u001b[39m+\u001b[39mj::\u001b[39m10\u001b[39m] \u001b[39m-\u001b[39m traj[i:\u001b[39m-\u001b[39mj:\u001b[39m10\u001b[39m])\u001b[39m*\u001b[39m\u001b[39m*\u001b[39m\u001b[39m2\u001b[39m)\u001b[39m.\u001b[39msum(axis\u001b[39m=\u001b[39m\u001b[39m-\u001b[39m\u001b[39m1\u001b[39m)\u001b[39m.\u001b[39mmean(axis\u001b[39m=\u001b[39m\u001b[39m0\u001b[39m)\u001b[39m.\u001b[39mmean()\n\u001b[1;32m      <a href='vscode-notebook-cell://ssh-remote%2Bperl/global/homes/r/ruiqig/deepmd-jax/examples/simulation_nvt.ipynb#X41sdnNjb2RlLXJlbW90ZQ%3D%3D?line=8'>9</a>\u001b[0m        \u001b[39m-\u001b[39m((traj[i\u001b[39m+\u001b[39mj\u001b[39m+\u001b[39m\u001b[39m2100\u001b[39m::\u001b[39m10\u001b[39m] \u001b[39m-\u001b[39m traj[i:\u001b[39m-\u001b[39mj\u001b[39m-\u001b[39m\u001b[39m2100\u001b[39m:\u001b[39m10\u001b[39m])\u001b[39m*\u001b[39m\u001b[39m*\u001b[39m\u001b[39m2\u001b[39m)\u001b[39m.\u001b[39msum(axis\u001b[39m=\u001b[39m\u001b[39m-\u001b[39m\u001b[39m1\u001b[39m)\u001b[39m.\u001b[39mmean(axis\u001b[39m=\u001b[39m\u001b[39m0\u001b[39m)\u001b[39m.\u001b[39mmean()) \u001b[39m/\u001b[39m \u001b[39m6\u001b[39m)\n\u001b[0;32m---> <a href='vscode-notebook-cell://ssh-remote%2Bperl/global/homes/r/ruiqig/deepmd-jax/examples/simulation_nvt.ipynb#X41sdnNjb2RlLXJlbW90ZQ%3D%3D?line=9'>10</a>\u001b[0m \u001b[39mprint\u001b[39m((msd[\u001b[39m1400\u001b[39;49m] \u001b[39m-\u001b[39m msd[\u001b[39m1300\u001b[39m]) \u001b[39m/\u001b[39m \u001b[39m4.8\u001b[39m \u001b[39m/\u001b[39m \u001b[39m2\u001b[39m)\n\u001b[1;32m     <a href='vscode-notebook-cell://ssh-remote%2Bperl/global/homes/r/ruiqig/deepmd-jax/examples/simulation_nvt.ipynb#X41sdnNjb2RlLXJlbW90ZQ%3D%3D?line=10'>11</a>\u001b[0m \u001b[39mprint\u001b[39m((msd[\u001b[39m1300\u001b[39m] \u001b[39m-\u001b[39m msd[\u001b[39m1200\u001b[39m]) \u001b[39m/\u001b[39m \u001b[39m4.8\u001b[39m \u001b[39m/\u001b[39m \u001b[39m2\u001b[39m)\n",
      "\u001b[0;31mIndexError\u001b[0m: list index out of range"
     ]
    },
    {
     "data": {
      "image/png": "[encoded data removed]",
      "text/plain": [
       "<Figure size 640x480 with 1 Axes>"
      ]
     },
     "metadata": {},
     "output_type": "display_data"
    }
   ],
   "source": [
    "import matplotlib.pyplot as plt\n",
    "msd = []\n",
    "for i in range(0, 3*len(traj)//4, 100):\n",
    "    msd.append(((traj[i+1000:len(water_traj)//4+i, :] - traj[1000:len(water_traj)//4, :])**2).mean())\n",
    "plt.plot(msd)\n",
    "i = 10000\n",
    "j = 40000\n",
    "print((((traj[i+j::10] - traj[i:-j:10])**2).sum(axis=-1).mean(axis=0).mean()\n",
    "       -((traj[i+j+2100::10] - traj[i:-j-2100:10])**2).sum(axis=-1).mean(axis=0).mean()) / 6)\n",
    "print((msd[1400] - msd[1300]) / 4.8 / 2)\n",
    "print((msd[1300] - msd[1200]) / 4.8 / 2)"
   ]
  },
  {
   "cell_type": "code",
   "execution_count": null,
   "metadata": {},
   "outputs": [
    {
     "name": "stdout",
     "output_type": "stream",
     "text": [
      "0.22384505891304557\n",
      "0.1721535352116325\n"
     ]
    }
   ],
   "source": [
    "print((msd[300] - msd[200]) / 4.8 / 2)\n",
    "print((msd[400] - msd[300]) / 4.8 / 2)"
   ]
  },
  {
   "cell_type": "code",
   "execution_count": null,
   "metadata": {},
   "outputs": [],
   "source": []
  },
  {
   "cell_type": "code",
   "execution_count": null,
   "metadata": {},
   "outputs": [],
   "source": []
  },
  {
   "cell_type": "code",
   "execution_count": null,
   "metadata": {},
   "outputs": [],
   "source": []
  }
 ],
 "metadata": {
  "kernelspec": {
   "display_name": "Python 3",
   "language": "python",
   "name": "python3"
  },
  "language_info": {
   "codemirror_mode": {
    "name": "ipython",
    "version": 3
   },
   "file_extension": ".py",
   "mimetype": "text/x-python",
   "name": "python",
   "nbconvert_exporter": "python",
   "pygments_lexer": "ipython3",
   "version": "3.10.13"
  },
  "orig_nbformat": 4
 },
 "nbformat": 4,
 "nbformat_minor": 2
}
