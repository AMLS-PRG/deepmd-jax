{
 "cells": [
  {
   "cell_type": "code",
   "execution_count": 1,
   "metadata": {},
   "outputs": [
    {
     "name": "stdout",
     "output_type": "stream",
     "text": [
      "env: XLA_PYTHON_CLIENT_PREALLOCATE=false\n",
      "# Program start at 2023-11-18 10:29:56 on device: [cuda(id=0)]\n"
     ]
    }
   ],
   "source": [
    "%env XLA_PYTHON_CLIENT_PREALLOCATE=false\n",
    "deepmd_jax_path = '../'           # Path to deepmd_jax package; change if you run this script at a different directory\n",
    "precision       = 'default'       # 'default'(fp32), 'low'(tf32), 'high'(fp64)\n",
    "import numpy as np\n",
    "import jax.numpy as jnp\n",
    "from jax import jit, vmap, grad, value_and_grad\n",
    "import jax, sys, os, datetime, pickle\n",
    "import flax.linen as nn\n",
    "from time import time\n",
    "import matplotlib.pyplot as plt\n",
    "from functools import partial\n",
    "sys.path.append(os.path.abspath(deepmd_jax_path))\n",
    "from deepmd_jax.data import DPDataset\n",
    "from deepmd_jax.dpmodel import DPModel\n",
    "from deepmd_jax.utils import get_p3mlr, get_p3mlr_grid_size\n",
    "if precision == 'default':\n",
    "    jax.config.update('jax_default_matmul_precision', 'float32')\n",
    "if precision == 'high':\n",
    "    jax.config.update('jax_enable_x64', True)\n",
    "np.set_printoptions(precision=4, suppress=True)\n",
    "print('# Program start at', datetime.datetime.now().strftime(\"%Y-%m-%d %H:%M:%S\"), 'on device:', jax.devices()[:1])"
   ]
  },
  {
   "cell_type": "code",
   "execution_count": 13,
   "metadata": {},
   "outputs": [
    {
     "name": "stdout",
     "output_type": "stream",
     "text": [
      "# Dataset loaded: 7797 frames/384 atoms. Path: \n",
      "# \t'/global/u2/r/ruiqig/deepmd-jax/examples/data/water_128_shifted'\n",
      "# Lattice vectors for neighbor images: Max 1 out of 1 condidates.\n"
     ]
    },
    {
     "ename": "KeyboardInterrupt",
     "evalue": "",
     "output_type": "error",
     "traceback": [
      "\u001b[0;31m---------------------------------------------------------------------------\u001b[0m",
      "\u001b[0;31mKeyboardInterrupt\u001b[0m                         Traceback (most recent call last)",
      "\u001b[1;32m/global/homes/r/ruiqig/deepmd-jax/examples/evaluate.ipynb Cell 2\u001b[0m line \u001b[0;36m2\n\u001b[1;32m     <a href='vscode-notebook-cell://ssh-remote%2Bperl/global/homes/r/ruiqig/deepmd-jax/examples/evaluate.ipynb#W1sdnNjb2RlLXJlbW90ZQ%3D%3D?line=18'>19</a>\u001b[0m     energy_true\u001b[39m.\u001b[39mappend(batch[\u001b[39m'\u001b[39m\u001b[39menergy\u001b[39m\u001b[39m'\u001b[39m])\n\u001b[1;32m     <a href='vscode-notebook-cell://ssh-remote%2Bperl/global/homes/r/ruiqig/deepmd-jax/examples/evaluate.ipynb#W1sdnNjb2RlLXJlbW90ZQ%3D%3D?line=19'>20</a>\u001b[0m     e, f \u001b[39m=\u001b[39m e_and_f(variables, batch[\u001b[39m'\u001b[39m\u001b[39mcoord\u001b[39m\u001b[39m'\u001b[39m], batch[\u001b[39m'\u001b[39m\u001b[39mbox\u001b[39m\u001b[39m'\u001b[39m], static_args)\n\u001b[0;32m---> <a href='vscode-notebook-cell://ssh-remote%2Bperl/global/homes/r/ruiqig/deepmd-jax/examples/evaluate.ipynb#W1sdnNjb2RlLXJlbW90ZQ%3D%3D?line=20'>21</a>\u001b[0m     force_pred\u001b[39m.\u001b[39mappend(np\u001b[39m.\u001b[39;49marray(f))\n\u001b[1;32m     <a href='vscode-notebook-cell://ssh-remote%2Bperl/global/homes/r/ruiqig/deepmd-jax/examples/evaluate.ipynb#W1sdnNjb2RlLXJlbW90ZQ%3D%3D?line=21'>22</a>\u001b[0m     energy_pred\u001b[39m.\u001b[39mappend(np\u001b[39m.\u001b[39marray(e))\n\u001b[1;32m     <a href='vscode-notebook-cell://ssh-remote%2Bperl/global/homes/r/ruiqig/deepmd-jax/examples/evaluate.ipynb#W1sdnNjb2RlLXJlbW90ZQ%3D%3D?line=22'>23</a>\u001b[0m force_true \u001b[39m=\u001b[39m np\u001b[39m.\u001b[39mconcatenate(force_true, axis\u001b[39m=\u001b[39m\u001b[39m0\u001b[39m)\n",
      "File \u001b[0;32m~/.conda/envs/deepmd-jax/lib/python3.10/site-packages/jax/_src/array.py:377\u001b[0m, in \u001b[0;36mArrayImpl.__array__\u001b[0;34m(self, dtype, context)\u001b[0m\n\u001b[1;32m    376\u001b[0m \u001b[39mdef\u001b[39;00m \u001b[39m__array__\u001b[39m(\u001b[39mself\u001b[39m, dtype\u001b[39m=\u001b[39m\u001b[39mNone\u001b[39;00m, context\u001b[39m=\u001b[39m\u001b[39mNone\u001b[39;00m):\n\u001b[0;32m--> 377\u001b[0m   \u001b[39mreturn\u001b[39;00m np\u001b[39m.\u001b[39masarray(\u001b[39mself\u001b[39;49m\u001b[39m.\u001b[39;49m_value, dtype\u001b[39m=\u001b[39mdtype)\n",
      "File \u001b[0;32m~/.conda/envs/deepmd-jax/lib/python3.10/site-packages/jax/_src/profiler.py:340\u001b[0m, in \u001b[0;36mannotate_function.<locals>.wrapper\u001b[0;34m(*args, **kwargs)\u001b[0m\n\u001b[1;32m    337\u001b[0m \u001b[39m@wraps\u001b[39m(func)\n\u001b[1;32m    338\u001b[0m \u001b[39mdef\u001b[39;00m \u001b[39mwrapper\u001b[39m(\u001b[39m*\u001b[39margs, \u001b[39m*\u001b[39m\u001b[39m*\u001b[39mkwargs):\n\u001b[1;32m    339\u001b[0m   \u001b[39mwith\u001b[39;00m TraceAnnotation(name, \u001b[39m*\u001b[39m\u001b[39m*\u001b[39mdecorator_kwargs):\n\u001b[0;32m--> 340\u001b[0m     \u001b[39mreturn\u001b[39;00m func(\u001b[39m*\u001b[39;49margs, \u001b[39m*\u001b[39;49m\u001b[39m*\u001b[39;49mkwargs)\n\u001b[1;32m    341\u001b[0m   \u001b[39mreturn\u001b[39;00m wrapper\n",
      "File \u001b[0;32m~/.conda/envs/deepmd-jax/lib/python3.10/site-packages/jax/_src/array.py:566\u001b[0m, in \u001b[0;36mArrayImpl._value\u001b[0;34m(self)\u001b[0m\n\u001b[1;32m    564\u001b[0m \u001b[39mif\u001b[39;00m \u001b[39mself\u001b[39m\u001b[39m.\u001b[39m_npy_value \u001b[39mis\u001b[39;00m \u001b[39mNone\u001b[39;00m:\n\u001b[1;32m    565\u001b[0m   \u001b[39mif\u001b[39;00m \u001b[39mself\u001b[39m\u001b[39m.\u001b[39mis_fully_replicated:\n\u001b[0;32m--> 566\u001b[0m     \u001b[39mself\u001b[39m\u001b[39m.\u001b[39m_npy_value \u001b[39m=\u001b[39m \u001b[39mself\u001b[39;49m\u001b[39m.\u001b[39;49m_single_device_array_to_np_array()  \u001b[39m# type: ignore\u001b[39;00m\n\u001b[1;32m    567\u001b[0m     \u001b[39mself\u001b[39m\u001b[39m.\u001b[39m_npy_value\u001b[39m.\u001b[39mflags\u001b[39m.\u001b[39mwriteable \u001b[39m=\u001b[39m \u001b[39mFalse\u001b[39;00m\n\u001b[1;32m    568\u001b[0m     \u001b[39mreturn\u001b[39;00m cast(np\u001b[39m.\u001b[39mndarray, \u001b[39mself\u001b[39m\u001b[39m.\u001b[39m_npy_value)\n",
      "\u001b[0;31mKeyboardInterrupt\u001b[0m: "
     ]
    }
   ],
   "source": [
    "# Evaluating energy/force model; plot parity plot for force and energy\n",
    "model_path       = 'trained_models/dpmp_polaron_full_1.pkl'\n",
    "data_paths       = ['data/water_128_shifted']\n",
    "# data_paths       = ['/pscratch/sd/r/ruiqig/polaron_cp2k/aimd/polaron_full_val']\n",
    "test_batch_size  = 8\n",
    "#############################################\n",
    "with open(model_path, 'rb') as file:\n",
    "    m = pickle.load(file)\n",
    "model, variables = m['model'], m['variables']\n",
    "dataset = DPDataset(data_paths, ['coord', 'box', 'force', 'energy'])\n",
    "dataset.compute_lattice_candidate(model.params['rcut'])\n",
    "force_true, force_pred, energy_true, energy_pred = [], [], [], []\n",
    "e_and_f = jit(vmap(model.energy_and_force, in_axes=(None,0,0,None)), static_argnums=(3,))\n",
    "dataset.pointer = 0\n",
    "for i in range(dataset.nframes//test_batch_size):\n",
    "    batch, type_idx, lattice_args = dataset.get_batch(test_batch_size)\n",
    "    static_args = nn.FrozenDict({'type_idx':type_idx, 'lattice': lattice_args})\n",
    "    force_true.append(batch['force'])\n",
    "    energy_true.append(batch['energy'])\n",
    "    e, f = e_and_f(variables, batch['coord'], batch['box'], static_args)\n",
    "    force_pred.append(np.array(f))\n",
    "    energy_pred.append(np.array(e))\n",
    "force_true = np.concatenate(force_true, axis=0)\n",
    "force_pred = np.concatenate(force_pred, axis=0)\n",
    "energy_true = np.concatenate(energy_true, axis=0)\n",
    "energy_pred = np.concatenate(energy_pred, axis=0)\n",
    "force_err = force_true - force_pred\n",
    "energy_err = (energy_true - energy_pred)\n",
    "print('Mean force error = %.4f' % (force_err**2).mean()**0.5)\n",
    "print('Mean energy error = %.4f, Mean energy shift = %.4f' % (energy_err.std(), energy_err.mean()))\n",
    "# plt.plot(force_true.flatten(), force_pred.flatten(), '.') # parity plot for force\n",
    "plt.figure()\n",
    "plt.plot(np.abs(force_err).max(1).flatten(), '.') # max error for each atom's force\n",
    "plt.figure()\n",
    "plt.plot(energy_true, energy_pred, '.') # parity plot for energy"
   ]
  },
  {
   "cell_type": "code",
   "execution_count": 78,
   "metadata": {},
   "outputs": [
    {
     "name": "stdout",
     "output_type": "stream",
     "text": [
      "(256, 6, 64)\n"
     ]
    }
   ],
   "source": [
    "# from deepmd_jax.utils import embedding_net, sr\n",
    "from scipy.interpolate import PPoly, BPoly\n",
    "model_path       = 'trained_models/dp_polaron_1.pkl'\n",
    "with open(model_path, 'rb') as file:\n",
    "    m = pickle.load(file)\n",
    "model, variables = m['model'], m['variables']\n",
    "embed = embedding_net(model.params['embed_widths'])\n",
    "var = {'params': variables['params']['embedding_net_0']}\n",
    "Ninterval = 256\n",
    "srmin, srmax = -2, 4\n",
    "r = np.linspace(srmin, srmax, Ninterval+1)\n",
    "# enable 64 bit\n",
    "jax.config.update(\"jax_enable_x64\", True)\n",
    "f0 = embed.apply(var, r[:,None])\n",
    "f1 = vmap(jax.jacfwd(lambda x: embed.apply(var, x[None])))(r)\n",
    "f2 = vmap(jax.jacfwd(jax.jacfwd(lambda x: embed.apply(var, x[None]))))(r)\n",
    "f0.shape, f1.shape, f2.shape\n",
    "poly = PPoly.from_bernstein_basis(BPoly.from_derivatives(r, np.stack([f0,f1,f2], axis=1), orders=None))\n",
    "jax.config.update(\"jax_enable_x64\", False)\n",
    "poly_coeff = jnp.array(poly.c.transpose(1,0,2))\n",
    "print(poly_coeff.shape)\n",
    "def apply(r):\n",
    "    r = r - srmin\n",
    "    idx = (r * (Ninterval/(srmax-srmin))).astype(int) \n",
    "    r0 = (r - (idx*((srmax-srmin)/Ninterval)))[...,None]\n",
    "    coeff = poly_coeff[idx]\n",
    "    return sum([coeff[...,i,:]*r0**(5-i) for i in range(6)])\n",
    "    # return vmap(vmap(jnp.polyval))(coeff, r0[...,0])"
   ]
  },
  {
   "cell_type": "code",
   "execution_count": 77,
   "metadata": {},
   "outputs": [
    {
     "data": {
      "text/plain": [
       "False"
      ]
     },
     "execution_count": 77,
     "metadata": {},
     "output_type": "execute_result"
    }
   ],
   "source": [
    "jax.config.update(\"jax_enable_x64\", False)\n",
    "jax.config.read('jax_enable_x64')"
   ]
  },
  {
   "cell_type": "code",
   "execution_count": 73,
   "metadata": {},
   "outputs": [
    {
     "data": {
      "text/plain": [
       "['embedding_net_0', 'embedding_net_1', 'embedding_net_2', 'embedding_net_3']"
      ]
     },
     "execution_count": 73,
     "metadata": {},
     "output_type": "execute_result"
    }
   ],
   "source": [
    "[net for net in variables['params'] if 'embed' in net and variables['params'][net]['Dense_0']['kernel'].shape[0] == 1]\n",
    "    "
   ]
  },
  {
   "cell_type": "code",
   "execution_count": 74,
   "metadata": {},
   "outputs": [
    {
     "ename": "SyntaxError",
     "evalue": "invalid syntax. Maybe you meant '==' or ':=' instead of '='? (2020005598.py, line 1)",
     "output_type": "error",
     "traceback": [
      "\u001b[0;36m  Cell \u001b[0;32mIn[74], line 1\u001b[0;36m\u001b[0m\n\u001b[0;31m    np.stack([[1,2], [0.1, 0.3], axis=1])\u001b[0m\n\u001b[0m                                 ^\u001b[0m\n\u001b[0;31mSyntaxError\u001b[0m\u001b[0;31m:\u001b[0m invalid syntax. Maybe you meant '==' or ':=' instead of '='?\n"
     ]
    }
   ],
   "source": [
    "np.stack([[1,2], [0.1, 0.3], axis=1])"
   ]
  },
  {
   "cell_type": "code",
   "execution_count": 64,
   "metadata": {},
   "outputs": [],
   "source": [
    "variables['compress_var'] = 1"
   ]
  },
  {
   "cell_type": "code",
   "execution_count": 67,
   "metadata": {},
   "outputs": [
    {
     "data": {
      "text/plain": [
       "dict"
      ]
     },
     "execution_count": 67,
     "metadata": {},
     "output_type": "execute_result"
    }
   ],
   "source": [
    "type(variables)"
   ]
  },
  {
   "cell_type": "code",
   "execution_count": 60,
   "metadata": {},
   "outputs": [
    {
     "data": {
      "text/plain": [
       "2.0"
      ]
     },
     "execution_count": 60,
     "metadata": {},
     "output_type": "execute_result"
    }
   ],
   "source": [
    "embed.apply({'compress_var': {'rmin': 1.}}, 3., compress=True)"
   ]
  },
  {
   "cell_type": "code",
   "execution_count": 92,
   "metadata": {},
   "outputs": [
    {
     "name": "stdout",
     "output_type": "stream",
     "text": [
      "2.297759e-05 0.0033893585 0.99990845\n",
      "1.1748139e-07 9.88543e-07 0.00017447186\n"
     ]
    }
   ],
   "source": [
    "r = np.linspace(srmin, srmax*(1-1e-6), (Ninterval+1)*10)\n",
    "err0 = jnp.abs(apply(r) - embed.apply(var, r[...,None]))\n",
    "err1 = jnp.abs(vmap(jax.jacfwd(lambda x: apply(x)))(r) - vmap(jax.jacfwd(lambda x: embed.apply(var, x[...,None])))(r))\n",
    "err2 = jnp.abs(vmap(jax.jacfwd(jax.jacfwd(lambda x: apply(x))))(r) - vmap(jax.jacfwd(jax.jacfwd(lambda x: embed.apply(var, x[...,None]))))(r))\n",
    "relerr0 = err0 / (jnp.abs(embed.apply(var, r[...,None])) + 1e-3)\n",
    "relerr1 = err1 / (jnp.abs(vmap(jax.jacfwd(lambda x: embed.apply(var, x[...,None])))(r)) + 1e-3)\n",
    "relerr2 = err2 / (jnp.abs(vmap(jax.jacfwd(jax.jacfwd(lambda x: embed.apply(var, x[...,None]))))(r)) + 1e-3)\n",
    "print(err0.max(), err1.max(), err2.max())\n",
    "print(err0.mean(), err1.mean(), err2.mean())"
   ]
  },
  {
   "cell_type": "code",
   "execution_count": 43,
   "metadata": {},
   "outputs": [
    {
     "name": "stdout",
     "output_type": "stream",
     "text": [
      "0.8909289836883545\n",
      "0.585472583770752\n",
      "0.5782065391540527\n",
      "0.5841357707977295\n",
      "0.5788934230804443\n",
      "1.1827938556671143\n",
      "1.0515358448028564\n",
      "1.0526890754699707\n",
      "1.053053379058838\n",
      "1.0535173416137695\n"
     ]
    }
   ],
   "source": [
    "from time import time\n",
    "r = jnp.array(np.random.uniform(srmin, srmax, (16384, 128)))\n",
    "def test1(r):\n",
    "    return jax.lax.fori_loop(0, 1000, lambda i,r: apply(r).sum()*1e-16 + r, r).sum()\n",
    "def test2(r):\n",
    "    return jax.lax.fori_loop(0, 1000, lambda i,r: embed.apply(var, r[...,None]).sum()*1e-16 + r, r)\n",
    "def test1g(r):\n",
    "    g = grad(lambda r: apply(r).sum())\n",
    "    return jax.lax.fori_loop(0, 1000, lambda i,r: g(r)*1e-16 + r, r).sum()\n",
    "def test2g(r):\n",
    "    g = jax.grad(lambda r: embed.apply(var, r[...,None]).sum())\n",
    "    return jax.lax.fori_loop(0, 1000, lambda i,r: g(r)*1e-16 + r, r).sum()\n",
    "for f in [jit(test1), jit(test1g)]:\n",
    "    for i in range(5):\n",
    "        tic = time()\n",
    "        f(r).block_until_ready()\n",
    "        print(time()-tic)\n",
    "# for i in range(4):\n",
    "#     tic = time()\n",
    "#     jax.lax.fori_loop(0, 1000, lambda i,r: apply(r).sum()*1e-16 + r, r).sum().block_until_ready()\n",
    "#     print(time()-tic)\n",
    "# g = grad(lambda r: apply(r).sum())\n",
    "# for i in range(4):\n",
    "#     tic = time()\n",
    "#     jax.lax.fori_loop(0, 1000, lambda i,r: g(r)*1e-16 + r, r).sum().block_until_ready()\n",
    "#     print(time()-tic)"
   ]
  },
  {
   "cell_type": "code",
   "execution_count": 16,
   "metadata": {},
   "outputs": [
    {
     "data": {
      "text/plain": [
       "(1, 1)"
      ]
     },
     "execution_count": 16,
     "metadata": {},
     "output_type": "execute_result"
    }
   ],
   "source": [
    "np.divmod(3., 2., dtype=int, casting='unsafe')"
   ]
  },
  {
   "cell_type": "code",
   "execution_count": null,
   "metadata": {},
   "outputs": [],
   "source": []
  },
  {
   "cell_type": "code",
   "execution_count": 44,
   "metadata": {},
   "outputs": [
    {
     "name": "stdout",
     "output_type": "stream",
     "text": [
      "# Dataset loaded: 7349 frames/192 atoms. Path: \n",
      "# \t'/global/u2/r/ruiqig/deepmd-jax/examples/data/chunyi_dplr/data/energy_force_data/data/data1'\n",
      "# \t'/global/u2/r/ruiqig/deepmd-jax/examples/data/chunyi_dplr/data/energy_force_data/data/data2'\n",
      "# \t'/global/u2/r/ruiqig/deepmd-jax/examples/data/chunyi_dplr/data/energy_force_data/data/data3'\n",
      "# \t'/global/u2/r/ruiqig/deepmd-jax/examples/data/chunyi_dplr/data/energy_force_data/data/data4'\n",
      "# \t'/global/u2/r/ruiqig/deepmd-jax/examples/data/chunyi_dplr/data/energy_force_data/data/data5'\n",
      "# \t'/global/u2/r/ruiqig/deepmd-jax/examples/data/chunyi_dplr/data/energy_force_data/data/data6'\n",
      "# \t'/global/u2/r/ruiqig/deepmd-jax/examples/data/chunyi_dplr/data/energy_force_data/data/data7'\n",
      "# \t'/global/u2/r/ruiqig/deepmd-jax/examples/data/chunyi_dplr/data/energy_force_data/data/data8'\n",
      "# \t'/global/u2/r/ruiqig/deepmd-jax/examples/data/chunyi_dplr/data/energy_force_data/data/data9'\n",
      "# \t'/global/u2/r/ruiqig/deepmd-jax/examples/data/chunyi_dplr/data/energy_force_data/data/data10'\n",
      "# \t'/global/u2/r/ruiqig/deepmd-jax/examples/data/chunyi_dplr/data/energy_force_data/data/data11'\n",
      "# \t'/global/u2/r/ruiqig/deepmd-jax/examples/data/chunyi_dplr/data/energy_force_data/data/data12'\n",
      "# \t'/global/u2/r/ruiqig/deepmd-jax/examples/data/chunyi_dplr/data/energy_force_data/data/data13'\n",
      "# \t'/global/u2/r/ruiqig/deepmd-jax/examples/data/chunyi_dplr/data/energy_force_data/data/data14'\n",
      "# \t'/global/u2/r/ruiqig/deepmd-jax/examples/data/chunyi_dplr/data/energy_force_data/data/data15'\n",
      "# \t'/global/u2/r/ruiqig/deepmd-jax/examples/data/chunyi_dplr/data/energy_force_data/data/data16'\n",
      "# \t'/global/u2/r/ruiqig/deepmd-jax/examples/data/chunyi_dplr/data/energy_force_data/data/data17'\n",
      "# \t'/global/u2/r/ruiqig/deepmd-jax/examples/data/chunyi_dplr/data/energy_force_data/data/data18'\n",
      "# \t'/global/u2/r/ruiqig/deepmd-jax/examples/data/chunyi_dplr/data/energy_force_data/data/data19'\n",
      "# \t'/global/u2/r/ruiqig/deepmd-jax/examples/data/chunyi_dplr/data/energy_force_data/data/data20'\n",
      "# \t'/global/u2/r/ruiqig/deepmd-jax/examples/data/chunyi_dplr/data/energy_force_data/data/data21'\n",
      "# \t'/global/u2/r/ruiqig/deepmd-jax/examples/data/chunyi_dplr/data/energy_force_data/data/data22'\n",
      "# \t'/global/u2/r/ruiqig/deepmd-jax/examples/data/chunyi_dplr/data/energy_force_data/data/data23'\n",
      "# \t'/global/u2/r/ruiqig/deepmd-jax/examples/data/chunyi_dplr/data/energy_force_data/data/data24'\n",
      "# \t'/global/u2/r/ruiqig/deepmd-jax/examples/data/chunyi_dplr/data/energy_force_data/data/data25'\n",
      "# \t'/global/u2/r/ruiqig/deepmd-jax/examples/data/chunyi_dplr/data/energy_force_data/data/data26'\n",
      "# \t'/global/u2/r/ruiqig/deepmd-jax/examples/data/chunyi_dplr/data/energy_force_data/data/data27'\n",
      "# \t'/global/u2/r/ruiqig/deepmd-jax/examples/data/chunyi_dplr/data/energy_force_data/data/data28'\n",
      "# \t'/global/u2/r/ruiqig/deepmd-jax/examples/data/chunyi_dplr/data/energy_force_data/data/data29'\n",
      "# \t'/global/u2/r/ruiqig/deepmd-jax/examples/data/chunyi_dplr/data/energy_force_data/data/data30'\n",
      "# \t'/global/u2/r/ruiqig/deepmd-jax/examples/data/chunyi_dplr/data/energy_force_data/data/data31'\n",
      "# \t'/global/u2/r/ruiqig/deepmd-jax/examples/data/chunyi_dplr/data/energy_force_data/data/data32'\n",
      "# \t'/global/u2/r/ruiqig/deepmd-jax/examples/data/chunyi_dplr/data/energy_force_data/data/data33'\n",
      "# \t'/global/u2/r/ruiqig/deepmd-jax/examples/data/chunyi_dplr/data/energy_force_data/data/data34'\n",
      "# \t'/global/u2/r/ruiqig/deepmd-jax/examples/data/chunyi_dplr/data/energy_force_data/data/data35'\n",
      "# \t'/global/u2/r/ruiqig/deepmd-jax/examples/data/chunyi_dplr/data/energy_force_data/data/data36'\n",
      "# \t'/global/u2/r/ruiqig/deepmd-jax/examples/data/chunyi_dplr/data/energy_force_data/data/data37'\n",
      "# \t'/global/u2/r/ruiqig/deepmd-jax/examples/data/chunyi_dplr/data/energy_force_data/data/data38'\n",
      "# \t'/global/u2/r/ruiqig/deepmd-jax/examples/data/chunyi_dplr/data/energy_force_data/data/data39'\n",
      "# \t'/global/u2/r/ruiqig/deepmd-jax/examples/data/chunyi_dplr/data/energy_force_data/data/data40'\n",
      "# \t'/global/u2/r/ruiqig/deepmd-jax/examples/data/chunyi_dplr/data/energy_force_data/data/data41'\n",
      "# \t'/global/u2/r/ruiqig/deepmd-jax/examples/data/chunyi_dplr/data/energy_force_data/data/data42'\n",
      "# \t'/global/u2/r/ruiqig/deepmd-jax/examples/data/chunyi_dplr/data/energy_force_data/data/data43'\n",
      "# \t'/global/u2/r/ruiqig/deepmd-jax/examples/data/chunyi_dplr/data/energy_force_data/data/data44'\n",
      "# \t'/global/u2/r/ruiqig/deepmd-jax/examples/data/chunyi_dplr/data/energy_force_data/data/data45'\n",
      "# \t'/global/u2/r/ruiqig/deepmd-jax/examples/data/chunyi_dplr/data/energy_force_data/data/data_ex1'\n",
      "# \t'/global/u2/r/ruiqig/deepmd-jax/examples/data/chunyi_dplr/data/energy_force_data/data/data_ex2'\n",
      "# \t'/global/u2/r/ruiqig/deepmd-jax/examples/data/chunyi_dplr/data/energy_force_data/data/data_ex3'\n",
      "# \t'/global/u2/r/ruiqig/deepmd-jax/examples/data/chunyi_dplr/data/energy_force_data/data/data_ex4'\n",
      "# \t'/global/u2/r/ruiqig/deepmd-jax/examples/data/chunyi_dplr/data/energy_force_data/data/data_ex5'\n",
      "# \t'/global/u2/r/ruiqig/deepmd-jax/examples/data/chunyi_dplr/data/energy_force_data/data/data_ex6'\n",
      "# Lattice vectors for neighbor images: Max 2 out of 7 condidates.\n",
      "Saved short range dataset to data/chunyi_dplr/data/energy_force_data/data_sr\n",
      "Energy (mean,std): Full (-29928.24, 2.24) LR (1.50, 0.21) SR (-29929.74, 2.19) Ratio of std 0.978\n",
      "Force (mean,std): Full (0.00, 2.16) LR (-0.00, 0.10) SR (0.00, 2.14) Ratio of std 0.990\n"
     ]
    },
    {
     "data": {
      "text/plain": [
       "(None, None)"
      ]
     },
     "execution_count": 44,
     "metadata": {},
     "output_type": "execute_result"
    }
   ],
   "source": [
    "# convert energy-force dataset to short range dataset; Used in DPLR\n",
    "# source datasets should have the same type index; if not, run the code for each type index\n",
    "source_paths       = ['data/chunyi_dplr/data/energy_force_data/data/data' + str(i) for i in range(1,46)] \\\n",
    "                   + ['data/chunyi_dplr/data/energy_force_data/data/data_ex' + str(i) for i in range(1,7)]\n",
    "target_path        = 'data/chunyi_dplr/data/energy_force_data/data_sr'\n",
    "wannier_model_path = 'trained_models/dw_chunyidplr_1.pkl'\n",
    "q_atoms            = [6, 1]             # charge of atomic cores, here Oxygen and Hydrogen\n",
    "q_wc               = [-8]               # charge of wannier center/centroid\n",
    "atomic_sel         = [0]                # type of wannier center/centroid association, here only Oxygen\n",
    "beta               = 0.4                # inverse spread of the point charge distribution\n",
    "resolution         = 0.2                # grid length for particle mesh = resolution / beta\n",
    "\n",
    "with open(wannier_model_path, 'rb') as file:\n",
    "    m = pickle.load(file)\n",
    "model, variables = m['model'], m['variables']\n",
    "dataset = DPDataset(source_paths, ['coord','box','force','energy'])\n",
    "dataset.compute_lattice_candidate(model.params['rcut'])\n",
    "dataset.pointer = 0\n",
    "batch, type_idx, lattice_args = dataset.get_batch(1)\n",
    "static_args = nn.FrozenDict({'type_idx':type_idx, 'lattice':lattice_args})\n",
    "pred_fn = jit(model.apply, static_argnums=(3,))\n",
    "qatoms = jnp.concatenate([jnp.ones(type_idx[i+1]-type_idx[i])*q_atoms[i] for i in range(len(type_idx)-1)])\n",
    "qwc = jnp.concatenate([jnp.ones(type_idx[atomic_sel[i]+1]-type_idx[atomic_sel[i]])*q_wc[i] for i in range(len(atomic_sel))])\n",
    "q = jnp.concatenate([qatoms, qwc])\n",
    "sel_idx = np.concatenate([(i in atomic_sel)*np.ones(type_idx[i+1]-type_idx[i],dtype=bool) for i in range(len(type_idx)-1)])\n",
    "def lr_energy(coord, box, M):\n",
    "    wc_rel = pred_fn(variables, coord, box, static_args)[0]\n",
    "    wc = coord.T[sel_idx] + wc_rel\n",
    "    coord_and_wc = jnp.concatenate([coord.T, wc])\n",
    "    p3mlr = get_p3mlr(jnp.diag(box), beta, M)\n",
    "    return p3mlr(coord_and_wc, q), wc\n",
    "@partial(jit, static_argnums=(2,))\n",
    "def lr_energy_and_force(coord, box, M):\n",
    "    (e, wc), negf = value_and_grad(lr_energy, has_aux=True)(coord, box, M)\n",
    "    return e, -negf, wc\n",
    "dataset.pointer = 0\n",
    "energy_lr, force_lr, wc_pred = [], [], []\n",
    "for i in range(dataset.nframes):\n",
    "    M = get_p3mlr_grid_size(np.diag(dataset.data['box'][i]), beta, resolution=0.2)\n",
    "    e_lr, f_lr, wc = lr_energy_and_force(dataset.data['coord'][i], dataset.data['box'][i], M)\n",
    "    energy_lr.append(e_lr), force_lr.append(f_lr), wc_pred.append(wc)\n",
    "energy_lr, force_lr, wc = np.array(energy_lr), np.array(force_lr).transpose(0,2,1), np.array(wc_pred)\n",
    "energy_full, force_full = dataset.data['energy'], dataset.data['force'].transpose(0,2,1)\n",
    "energy_sr, force_sr = energy_full - energy_lr, force_full - force_lr\n",
    "os.makedirs(target_path, exist_ok=True)\n",
    "os.makedirs(target_path + '/set.000', exist_ok=True)\n",
    "type_array = np.concatenate([np.ones(type_idx[i+1]-type_idx[i],dtype=int)*i for i in range(len(type_idx)-1)])\n",
    "np.savetxt(target_path + '/type.raw', type_array, fmt='%d')\n",
    "np.save(target_path + '/set.000/coord.npy', dataset.data['coord'].transpose(0,2,1).reshape(dataset.nframes,-1))\n",
    "np.save(target_path + '/set.000/box.npy', dataset.data['box'].transpose(0,2,1).reshape(dataset.nframes,-1))\n",
    "np.save(target_path + '/set.000/energy.npy', energy_sr)\n",
    "np.save(target_path + '/set.000/force.npy', force_sr.reshape(dataset.nframes,-1))\n",
    "print('Saved short range dataset to', target_path)\n",
    "# Print mean/std for sanity check\n",
    "print('Energy (mean,std): Full (%.2f, %.2f) LR (%.2f, %.2f) SR (%.2f, %.2f) Ratio of std %.3f'\n",
    "    % (energy_full.mean(), energy_full.std(), energy_lr.mean(), energy_lr.std(),\n",
    "       energy_sr.mean(), energy_sr.std(), energy_sr.std()/energy_full.std()))\n",
    "print('Force (mean,std): Full (%.2f, %.2f) LR (%.2f, %.2f) SR (%.2f, %.2f) Ratio of std %.3f'\n",
    "    % (force_full.mean(), force_full.std(), force_lr.mean(), force_lr.std(),\n",
    "         force_sr.mean(), force_sr.std(), force_sr.std()/force_full.std()))\n",
    "e_list.append(energy_lr), f_list.append(force_lr)\n"
   ]
  },
  {
   "cell_type": "code",
   "execution_count": 35,
   "metadata": {},
   "outputs": [
    {
     "data": {
      "text/plain": [
       "2"
      ]
     },
     "execution_count": 35,
     "metadata": {},
     "output_type": "execute_result"
    }
   ],
   "source": [
    "len(f_list)"
   ]
  },
  {
   "cell_type": "code",
   "execution_count": null,
   "metadata": {},
   "outputs": [],
   "source": []
  },
  {
   "cell_type": "code",
   "execution_count": 40,
   "metadata": {},
   "outputs": [],
   "source": [
    "e_list, f_list = [], []"
   ]
  },
  {
   "cell_type": "code",
   "execution_count": 43,
   "metadata": {},
   "outputs": [
    {
     "name": "stdout",
     "output_type": "stream",
     "text": [
      "0.011055796\n"
     ]
    },
    {
     "data": {
      "text/plain": [
       "[<matplotlib.lines.Line2D at 0x7f6b3c511cc0>]"
      ]
     },
     "execution_count": 43,
     "metadata": {},
     "output_type": "execute_result"
    },
    {
     "data": {
      "image/png": "[encoded data removed]",
      "text/plain": [
       "<Figure size 640x480 with 1 Axes>"
      ]
     },
     "metadata": {},
     "output_type": "display_data"
    }
   ],
   "source": [
    "print((f_list[0] - f_list[1]).std())\n",
    "plt.plot(f_list[0].flatten(), f_list[1].flatten(), '.')"
   ]
  },
  {
   "cell_type": "code",
   "execution_count": null,
   "metadata": {},
   "outputs": [],
   "source": []
  }
 ],
 "metadata": {
  "kernelspec": {
   "display_name": "Python 3",
   "language": "python",
   "name": "python3"
  },
  "language_info": {
   "codemirror_mode": {
    "name": "ipython",
    "version": 3
   },
   "file_extension": ".py",
   "mimetype": "text/x-python",
   "name": "python",
   "nbconvert_exporter": "python",
   "pygments_lexer": "ipython3",
   "version": "3.10.13"
  },
  "orig_nbformat": 4
 },
 "nbformat": 4,
 "nbformat_minor": 2
}
